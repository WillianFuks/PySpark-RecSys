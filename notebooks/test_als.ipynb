{
cells: [
{
cell_type: "code",
execution_count: 2,
metadata: { },
outputs: [
{
data: {
text/plain: [
"['In', ",
" 'Out', ",
" 'SQLContext', ",
" 'SparkConf', ",
" 'SparkContext', ",
" 'SparkSession', ",
" '_', ",
" '__', ",
" '___', ",
" '__builtin__', ",
" '__builtins__', ",
" '__doc__', ",
" '__loader__', ",
" '__name__', ",
" '__package__', ",
" '__spec__', ",
" '_dh', ",
" '_i', ",
" '_i1', ",
" '_i2', ",
" '_ih', ",
" '_ii', ",
" '_iii', ",
" '_oh', ",
" '_pythonstartup', ",
" 'atexit', ",
" 'conf', ",
" 'exit', ",
" 'get_ipython', ",
" 'os', ",
" 'platform', ",
" 'py4j', ",
" 'pyspark', ",
" 'quit', ",
" 'sc', ",
" 'spark', ",
" 'sql', ",
" 'sqlContext', ",
" 'sqlCtx', ",
" 'warnings']"
]
},
execution_count: 2,
metadata: { },
output_type: "execute_result"
}
],
source: [
"dir()"
]
},
{
cell_type: "code",
execution_count: 205,
metadata: {
collapsed: true
},
outputs: [ ],
source: [
"import time ",
"import re ",
"import numpy as np"
]
},
{
cell_type: "code",
execution_count: 65,
metadata: {
collapsed: true
},
outputs: [ ],
source: [
"def timeit(method): ",
" ",
" def timed(*args, **kw): ",
" ts = time.time() ",
" result = method(*args, **kw) ",
" te = time.time() ",
" ",
" print('%r (%r, %r) %2.2f sec' % \ ",
" (method.__name__, args, kw, te-ts)) ",
" return result ",
" ",
" return timed"
]
},
{
cell_type: "code",
execution_count: 234,
metadata: {
collapsed: true
},
outputs: [ ],
source: [
"train_rdd = sc.textFile('gs://lbanor/pyspark/train_query*.gz')"
]
},
{
cell_type: "code",
execution_count: 235,
metadata: { },
outputs: [
{
data: {
text/plain: [
"['fv,sku,score', ",
" '3383270414872112082,MO578SHF77RTI,0.5', ",
" '7143168022217708588,DA923SHF54UJP,0.5']"
]
},
execution_count: 235,
metadata: { },
output_type: "execute_result"
}
],
source: [
"train_rdd.take(3)"
]
},
{
cell_type: "code",
execution_count: 60,
metadata: {
collapsed: true
},
outputs: [ ],
source: [
"valid_rdd = sc.textFile('gs://lbanor/pyspark/validation_query*.gz')"
]
},
{
cell_type: "code", vaError/lib/spark/python/pyspark/sql/utils.pn yexecution_count: 139,
metadata: {
	colliseapsed: true
Tracwith
rg.apache.spark.sql.catalyst.analysis'
Trace
"lysisExceptionceblysisExceptionack (most recent call last)",
rary table 'test_data' already exists;""
]
}
],
source: [
"test_df.createGlobalTempView('test_data')"
]
},
{
cell_type: "code",
execution_count: 25,
metadata: {
collapsed: true
},
outputs: [ ],
source: [
"@timeit ",
"def create_global(df, name): ",
" df.createGlobalTempView(name)"
]
},
{
cell_type: "code",
execution_count: 24,
metadata: { },
outputs: [
{
name: "stdout",
output_type: "stream",
text: [
"'create_global' ((DataFrame[fv: string, sku: string, score: string], 'test4'), {}) 2.01 sec "
]
}
],
source: [
"create_global(train_df, 'test4')"
]
},
{
cell_type: "code",
execution_count: 77,
metadata: {
collapsed: true
},
outputs: [ ],
source: [
"d2 = train_rdd.map(lambda x: x.split(',')).map(lambda x: re.sub('-\d+$', '', x[1])).distinct()"
]
},
{
cell_type: "code",
execution_count: 78,
metadata: {
collapsed: true
},
outputs: [ ],
source: [
"d2 = d2.zipWithIndex()"
]
},
{
cell_type: "code",
execution_count: 140,
metadata: { },
outputs: [
{
data: {
text/plain: [
"[('FI911SHF30RVT', 0), ('BO185SHF82JEJ', 1), ('IS227SHF92EKT', 2)]"
]
},
execution_count: 140,
metadata: { },
output_type: "execute_result"
}
],
source: [ ]
},
{
cell_type: "code",
execution_count: 92,
metadata: {
collapsed: true
},
outputs: [ ],
source: [
"final_train_rdd = train_rdd.join(d2)"
]
},
{
cell_type: "code",
execution_count: 93,
metadata: { },
outputs: [
{
data: {
text/plain: [
"[]"
]
},
execution_count: 93,
metadata: { },
output_type: "execute_result"
}
],
source: [
"final_train_rdd.take(3)"
]
},
{
cell_type: "code",
execution_count: 87,
metadata: {
collapsed: true
},
outputs: [ ],
source: [
"#d = spark.sql("SELECT regexp_replace(sku, '-\d+$', ''), row_number() over(ORDER BY 1) FROM global_temp.test4 group by sku") ",
"d = spark.sql("SELECT regexp_replace(sku, '-\d+$', ''), sum(1) over(ROWS BETWEEN UNBOUNDED PRECEDING AND CURRENT ROW) FROM global_temp.test4 group by sku")"
]
},
{
cell_type: "code",
execution_count: 112,
metadata: {
collapsed: true
},
outputs: [ ],
source: [
"query = """ ",
"SELECT ",
"a.fv fv, ",
"b.idx idx, ",
"a.score score ",
"FROM( ",
"SELECT ",
" * ",
"FROM global_temp.test4 ",
") a ",
"JOIN( ",
"SELECT ",
" regexp_replace(sku, '-\d+$', '') sku, ",
" sum(1) over(ROWS BETWEEN UNBOUNDED PRECEDING AND CURRENT ROW) idx ",
"FROM global_temp.test4 ",
"GROUP BY sku ",
") b ",
"ON a.sku = b.sku ",
"""""
]
},
{
cell_type: "code",
execution_count: 136,
metadata: {
collapsed: true
},
outputs: [ ],
source: [
"query = """ ",
"SELECT ",
"b.idx fv, ",
"c.idx sku, ",
"a.score score ",
"FROM( ",
"SELECT ",
" * ",
"FROM global_temp.%s ",
") a ",
"JOIN( ",
"SELECT ",
" fv, ",
" idx ",
"FROM global_temp.users_idx ",
") b ",
"ON a.fv = b.fv ",
"JOIN( ",
"SELECT ",
"sku, ",
"idx ",
"FROM global_temp.sku_idx ",
") c ",
"ON c.sku = a.sku ",
"""""
]
},
{
cell_type: "code",
execution_count: 120,
metadata: {
collapsed: true
},
outputs: [ ],
source: [
"users_query = \ ",
"""" ",
"SELECT ",
"fv, ",
"sum(1) over(ROWS BETWEEN UNBOUNDED PRECEDING AND CURRENT ROW) idx ",
"FROM global_temp.test4 group by fv ",
"""""
]
},
{
cell_type: "code",
execution_count: 122,
metadata: {
collapsed: true
},
outputs: [ ],
source: [
"users_df = spark.sql(users_query) ",
"users_df.createGlobalTempView('users_idx')"
]
},
{
cell_type: "code",
execution_count: 146,
metadata: {
collapsed: true
},
outputs: [ ],
source: [
"users_df.toPandas?"
]
},
{
cell_type: "code",
execution_count: 125,
metadata: {
collapsed: true
},
outputs: [ ],
source: [
"sku_query = \ ",
"""" ",
"SELECT ",
"sku, ",
"sum(1) over(ROWS BETWEEN UNBOUNDED PRECEDING AND CURRENT ROW) idx ",
"FROM global_temp.test4 group by sku ",
"""""
]
},
{
cell_type: "code",
execution_count: 126,
metadata: {
collapsed: true
},
outputs: [ ],
source: [
"sku_df = spark.sql(sku_query) ",
"sku_df.createGlobalTempView('sku_idx')"
]
},
{
cell_type: "code",
execution_count: 134,
metadata: {
collapsed: true
},
outputs: [ ],
source: [
"train_data = spark.sql(query)"
]
},
{
cell_typer "code",
rceback (most recent call last)",
python-input-164-2b020f49f58cn >"
execution_count: 149,
metadata: { },
outputs: [
{
data: {
text/plain: [
"[Row(fv=105748, sku=1511), Row(fv=222145, sku=1662), Row(fv=264737, sku=1662)]"
]
},
execution_count: 149,
metadata: { },
output_type: "execute_result"
}
],
source: [
"train_data.select('fv', 'sku').take(3)"
]
},
{
cell_type: "code",
execution_count: 156,
metadata: {
collapsed: true
},
outputs: [ ],
source: [
"valid_data = spark.sql(query %('valid_data'))"
]
},
{
cell_type: "code",
execution_count: 157,
metadata: { },
outputs: [
{
data: {
text/plain: [
"[Row(fv=646783, sku=86158, score='1'), ",
" Row(fv=943352, sku=86309, score='1'), ",
" Row(fv=679390, sku=86056, score='0.5')]"
]
},
execution_count: 157,
metadata: { },
output_type: "execute_result"
}
],
source: [
"valid_data.take(3)"
]
},
{
cell_type: "code",
execution_count: 158,
metadata: {
collapsed: true
},
outputs: [ ],
source: [
"test_data = spark.sql(query %('test_data'))"
]
},
{
cell_type: "code",
execution_count: 164,
metadata: { },
outputs: [
{
ename: "TypeError",
evalue: "'RDD' object is not callable",
output_type: "error",
traceback: [
"
python-input-154-5c73e0de631bn >"
]
},
{
cell_type: "code",
execution_count: null,
metadata: {
collapsed: true
},
outputs: [ ],
source: [ ]
},
{
cell_type: "code",
execution_count: 14,
metadata: {
collapsed: true
},
outputs: [ ],
source: [
"train_df = spark.read.csv('gs://lbanor/pyspark/train_query*.gz', header=True)"
]
},
{
cell_type: "code",
execution_count: 150,
metadata: {
collapsed: true
},
outputs: [ ],
source: [
"valid_df = spark.read.csv('gs://lbanor/pyspark/validation_query*.gz', header=True)"
]
},
{
cell_type: "code",
execution_count: 152,
metadata: {
collapsed: true
},
outputs: [ ],
source: [
"valid_df.createGlobalTempView('valid_data')"
]
},
{
cell_type: "code",
execution_count: 151,
metadata: {
collapsed: true
},
outputs: [ ],
source: [
"test_df = spark.read.csv('gs://lbanor/pyspark/test_query*.gz', header=True)"
]
},
{
cell_type: "code",
execution_count: 154,
metadata: { },
outputs: [
{
	ename: "AnalysisException",
mmann
	tracebackr [
r

bject is not callable"
]
}
],
source: [
"test_data.rdd"
]
},
{
cell_type: "code",
execution_count: 79,
metadata: { },
outputs: [
{
data: {
text/plain: [
"[('FI911SHF30RVT', 0), ('BO185SHF82JEJ', 1), ('IS227SHF92EKT', 2)]"
]
},
execution_count: 79,
metadata: { },
output_type: "execute_result"
}
],
source: [
"d2.take(3)"
]
},
{
cell_type: "code",
execution_count: 89,
metadata: { },
outputs: [
{
name: "stdout",
output_type: "stream",
text: [
"8.21 s ± 350 ms per loop (mean ± std. dev. of 7 runs, 1 loop each) "
]
}
],
source: [
"%timeit d.take(3)"
]
},
{
cell_type: "code",
execution_count: 52,
metadata: { },
outputs: [
{
name: "stdout",
output_type: "stream",
text: [
"68.6 ms ± 1.62 ms per loop (mean ± std. dev. of 7 runs, 10 loops each) "
]
}
],
source: [
"%timeit d2.take(3)"
]
},
{
cell_type: "code",
execution_count: 5,
metadata: { },
outputs: [
{
data: {
text/plain: [
"[Row(_c0='fv', _c1='sku', _c2='score'), ",
" Row(_c0='3383270414872112082', _c1='MO578SHF77RTI', _c2='0.5'), ",
" Row(_c0='7143168022217708588', _c1='DA923SHF54UJP', _c2='0.5')]"
]
},
execution_count: 5,
metadata: { },
output_type: "execute_result"
}
],
source: [
"train_df.take(3)"
]
},
{
cell_type: "code",
execution_count: 59,
metadata: { },
outputs: [
{
data: {
text/plain: [
"['fv,sku,score', ",
" '3383270414872112082,MO578SHF77RTI,0.5', ",
" '7143168022217708588,DA923SHF54UJP,0.5', ",
" '8844960186636261737,LU621ACM67NYU,0.5', ",
" '4982876416707808713,NE184SCM38ZOR,1']"
]
},
execution_count: 59,
metadata: { },
output_type: "execute_result"
}
],
source: [
"train_rdd.take(5)"
]
},
{
cell_type: "code",
execution_count: 61,
metadata: { },
outputs: [
{
data: {
text/plain: [
"['fv,sku,score', ",
" '8904296658784430607,BE139SHF93GPE,0.5', ",
" '8387443859206657573,FA258SHF63HTC,3', ",
" '3603778167605721116,HD124SRM40WZB,4']"
]
},
execution_count: 61,
metadata: { },
output_type: "execute_result"
}
],
source: [
"valid_rdd.take(4)"
]
},
{
cell_type: "code",
execution_count: 202,
metadata: {
collapsed: true
},
outputs: [ ],
source: [
"cocu = sc.textFile('gs://lbanor/1_0_00000000000561840423.gz')"
]
},
{
cell_type: "code",
execution_count: 203,
metadata: { },
outputs: [
{
data: {
text/plain: [
"139201"
]
},
execution_count: 203,
metadata: { },
output_type: "execute_result"
}
],
source: [
"cocu.count()"
]
},
{
cell_type: "code",
execution_count: 236,
metadata: { },
outputs: [
{
data: {
text/plain: [
"['{"event":{"schema_version":1,"user":{"location":{}},"identifiers":{"bid":{"value":"7645041da17c1b1ed4e86a20714e9abf","type":"bid"},"djUCID":{"value":"d4e22d11a6905a8c","type":"djUCID"}},"device":{"client":"Mozilla/5.0 (Linux; Android 4.4.2; LG-D855 Build/KVT49L) AppleWebKit/537.36 (KHTML, like Gecko) Chrome/59.0.3071.125 Mobile Safari/537.36","os":"Linux armv7l","origin":"web"},"source":{"tracker":"fish","url":"m.dafiti.com.br/?placeholder\\u0026gclid=CMuSis3z0tUCFRMIkQodRP8GfA","url_referrer":"www.google.com.br/"},"created_at":1502582400031,"local_timestamp":1502582399182,"type":"homepageview","details":{}},"created_at":1502582400031}', ",
" '{"event":{"schema_version":1,"user":{"location":{}},"identifiers":{"bid":{"value":"dcb7b9b540188da2ef245e15785d2ecb","type":"bid"},"djUCID":{"value":"25e35a54c8cace51","type":"djUCID"}},"device":{"client":"Mozilla/5.0 (Linux; Android 4.4.4; SM-G530BT Build/KTU84P) AppleWebKit/537.36 (KHTML, like Gecko) Chrome/59.0.3071.125 Mobile Safari/537.36","os":"Linux armv7l","origin":"web"},"source":{"tracker":"fish","url":"m.dafiti.com.br/Moletom-Enfim-Estampado-Azul-2923423.html","url_referrer":"m.dafiti.com.br/catalog/?q=Enfim\\u0026wtqs=1\\u0026dft_capi=1\\u0026page=7"},"created_at":1502582400021,"local_timestamp":1502589588052,"type":"productview","details":{"product":{"id":"","title":"Moletom Enfim Estampado Azul","brand":{"name":"Enfim"},"price":{"current":84.99},"group_id":"MA042APM76IPJ","skus":["MA042APM76IPJ"],"categories":[[{"name":"masculino","slug":"masculino"},{"name":"roupas masculinas","slug":"roupas-masculinas"},{"name":"moletons","slug":"moletons"},{"name":"moletom aberto","slug":"moletom-aberto"}]],"main_category_path":[{"name":"masculino","slug":"masculino"},{"name":"roupas masculinas","slug":"roupas-masculinas"},{"name":"moletons","slug":"moletons"},{"name":"moletom aberto","slug":"moletom-aberto"}],"url":"m.dafiti.com.br/Moletom-Enfim-Estampado-Azul-2923423.html","images":["https://dafitistatic-a.akamaihd.net/p/Enfim-Moletom-Enfim-Estampado-Azul-5611-3243292-1-zoom.jpg"],"colors":["Azul"]}}},"created_at":1502582400021}', ",
" '{"event":{"schema_version":1,"user":{"location":{}},"identifiers":{"bid":{"value":"536653f3f7915f8e3d14f16ab4324b2a","type":"bid"},"djUCID":{"value":"2feec3ba06c3a23b","type":"djUCID"}},"device":{"client":"Mozilla/5.0 (Windows NT 6.1; Win64; x64) AppleWebKit/537.36 (KHTML, like Gecko) Chrome/60.0.3112.90 Safari/537.36","os":"Win32","origin":"web"},"source":{"tracker":"fish","url":"www.dafiti.com.br/Regata-Estonada-Skull-Lab-Caveira--Grafite-2119409.html","url_referrer":"www.dafiti.com.br/Regata-Estonada-Skull-Lab-Caveira-Grafite-2119394.html"},"created_at":1502582400011,"local_timestamp":1502582394517,"type":"productview","details":{"product":{"id":"","title":"Regata Estonada Skull Lab Caveira Grafite","brand":{"name":"Skull Lab"},"price":{"current":59},"group_id":"SK014APF90PFT","skus":["SK014APF90PFT"],"categories":[[{"name":"feminino","slug":"feminino"},{"name":"roupas femininas","slug":"roupas-femininas"},{"name":"blusas","slug":"blusas"},{"name":"blusas básicas","slug":"blusas-basicas"}]],"main_category_path":[{"name":"feminino","slug":"feminino"},{"name":"roupas femininas","slug":"roupas-femininas"},{"name":"blusas","slug":"blusas"},{"name":"blusas básicas","slug":"blusas-basicas"}],"url":"www.dafiti.com.br/Regata-Estonada-Skull-Lab-Caveira--Grafite-2119409.html","images":["https://dafitistatic-a.akamaihd.net/p/Skull-Lab-Regata-Estonada-Skull-Lab-Caveira--Grafite-6775-9049112-1-zoom.jpg"],"colors":["Grafite"]}}},"created_at":1502582400011}', ",
" '{"event":{"schema_version":1,"user":{"location":{}},"device":{"origin":"web"},"source":{"tracker":"hawk","url":"/","url_referrer":"/"},"created_at":1502582400127,"type":"search_response","details":{"generation_ms":69,"request":{"category_dept":1,"facet_count":1000,"facets":["brand","price","size","gender","color","categories_slugs","categories_ids","owner","category"],"fields":"*","filters":{"brand.slug":["calvin-klein-kids"],"categories_ids":["257"]},"gs":3,"rq":5,"size":48,"sort":"relevance","top_product_ids":[""]},"response":{"count":189,"id":"d7c104cab610e7edf07290428c4db4e6ec49fcc1","items":["\\"CA947APM37XCS\\"","\\"CA947APM24OVZ\\"","\\"CA947APM29FXA\\"","\\"CA947APM71XMY\\"","\\"CA947APM50FWF\\"","\\"CA947APM95OLO\\"","\\"CA947APM18FTP\\"","\\"CA947APM05FUC\\"","\\"CA947APM03FUE\\"","\\"CA947APM94OLP\\"","\\"CA947APM49FWG\\"","\\"CA947APM34FWV\\"","\\"CA947APM01OTA\\"","\\"CA947APM57FVY\\"","\\"CA947APM47FWI\\"","\\"CA947APM09FTY\\"","\\"CA947APG97DGW\\"","\\"CA947APM32FWX\\"","\\"CA947APM85XAW\\"","\\"CA947APM03XHW\\"","\\"CA947APM42XCN\\"","\\"CA947APM90XIJ\\"","\\"CA947APM96OLN\\"","\\"CA947APM20FTN\\"","\\"CA947APM87OXK\\"","\\"CA947APM05OLE\\"","\\"CA947APM60FVV\\"","\\"CA947APM44FWL\\"","\\"CA947APM56FVZ\\"","\\"CA947APM59FVW\\""]}}},"created_at":1502582400127}', ",
" '{"event":{"schema_version":1,"user":{"location":{},"gender":"female"},"identifiers":{"app_id":{"value":"1D9D0285-41E3-4176-8776-6B01FBC30303","type":"app_id"},"user_id":{"value":"4119466","type":"user_id"}},"device":{"os":"ios","os_version":"10.3.2","origin":"mobile"},"source":{"tracker":"adjust"},"created_at":1502582400070,"local_timestamp":1502582368000,"type":"productview","details":{"product":{"id":"","group_id":"SA232SHF52RZN","skus":["SA232SHF52RZN"]}}},"created_at":1502582400070}', ",
" '{"event":{"schema_version":1,"user":{"location":{}},"identifiers":{"bid":{"value":"7bdf9b75984500d8ce37a37888cb65b5","type":"bid"}},"device":{"client":"Mozilla/5.0 (iPad; CPU OS 10_3_2 like Mac OS X) AppleWebKit/603.2.4 (KHTML, like Gecko) Version/10.0 Mobile/14F89 Safari/602.1","os":"iPad","origin":"web"},"source":{"tracker":"fish","url":"t.dafiti.com.br/special-price/","url_referrer":"/"},"created_at":1502582400085,"local_timestamp":1502582082860,"type":"search","details":{"query_type":"catalog","brand":{}}},"created_at":1502582400085}', ",
" '{"event":{"schema_version":1,"user":{"location":{}},"identifiers":{"bid":{"value":"2f9e29810bf19e880990f3927d81aa7a","type":"bid"}},"device":{"client":"Mozilla/5.0 (iPhone; CPU iPhone OS 10_3_3 like Mac OS X) AppleWebKit/603.3.8 (KHTML, like Gecko) Version/10.0 Mobile/14G60 Safari/602.1","os":"iPhone","origin":"web"},"source":{"tracker":"fish","url":"m.dafiti.com.br/roupas-femininas/blusas/colcci/?page=3","url_referrer":"www.google.com.br/"},"created_at":1502582400099,"local_timestamp":1502582398609,"type":"search","details":{"query_type":"catalog","brand":{"name":"Colcci"},"categories":[{"name":"Feminino","slug":"feminino"},{"name":"Roupas Femininas","slug":"roupas-femininas"},{"name":"Blusas","slug":"blusas"}]}},"created_at":1502582400099}', ",
" '{"event":{"schema_version":1,"user":{"location":{},"gender":"male"},"identifiers":{"app_id":{"value":"8BF4CABE-9B7D-464D-88E6-07C17711F472","type":"app_id"}},"device":{"os":"ios","os_version":"10.2","origin":"mobile"},"source":{"tracker":"adjust"},"created_at":1502582400186,"local_timestamp":1502582369000,"type":"productview","details":{"product":{"id":"","group_id":"HU897APM59TVC","skus":["HU897APM59TVC"]}}},"created_at":1502582400186}', ",
" '{"event":{"schema_version":1,"user":{"location":{}},"identifiers":{"bid":{"value":"4140372781cb785337d078379dbf1d0e","type":"bid"},"djUCID":{"value":"afb279ead147aecc","type":"djUCID"}},"device":{"client":"Mozilla/5.0 (Windows NT 10.0; Win64; x64) AppleWebKit/537.36 (KHTML, like Gecko) Chrome/60.0.3112.90 Safari/537.36","os":"Win32","origin":"web"},"source":{"tracker":"fish","url":"www.dafiti.com.br/Bolsa-Colcci-Grande-Preta-3174520.html","url_referrer":"www.dafiti.com.br/Bolsa-Colcci-Media-Vinho-3174523.html"},"created_at":1502582400219,"local_timestamp":1502582397287,"type":"productview","details":{"product":{"id":"","title":"Bolsa Colcci Grande Preta","brand":{"name":"Colcci"},"price":{"current":199.9},"group_id":"CO515ACF79QAY","skus":["CO515ACF79QAY"],"categories":[[{"name":"feminino","slug":"feminino"},{"name":"bolsas e acessórios femininos","slug":"bolsas-e-acessorios-femininos"},{"name":"bolsas","slug":"bolsas"},{"name":"bolsa tiracolo e baú","slug":"bolsa-tiracolo-e-bau"}]],"main_category_path":[{"name":"feminino","slug":"feminino"},{"name":"bolsas e acessórios femininos","slug":"bolsas-e-acessorios-femininos"},{"name":"bolsas","slug":"bolsas"},{"name":"bolsa tiracolo e baú","slug":"bolsa-tiracolo-e-bau"}],"url":"www.dafiti.com.br/Bolsa-Colcci-Grande-Preta-3174520.html","images":["https://dafitistatic-a.akamaihd.net/p/Colcci-Bolsa-Colcci-Grande-Preta-7835-0254713-1-zoom.jpg"],"colors":["Preto"]}}},"created_at":1502582400219}', ",
" '{"event":{"schema_version":1,"user":{"location":{}},"identifiers":{"bid":{"value":"054f5ae5029c5a12b07d25f371a34cf9","type":"bid"},"djUCID":{"value":"7b91c3cb7a383665","type":"djUCID"}},"device":{"client":"Mozilla/5.0 (Linux; Android 6.0.1; Moto G Play Build/MPI24.241-15.3) AppleWebKit/537.36 (KHTML, like Gecko) Chrome/50.0.2661.89 Mobile Safari/537.36","os":"Linux armv7l","origin":"web"},"source":{"tracker":"fish","url":"m.dafiti.com.br/catalog/?q=Calcados\\u0026wtqs=1\\u0026dft_capi=1","url_referrer":"m.dafiti.com.br/catalog/?q=Calcados\\u0026wtqs=1"},"created_at":1502582400347,"local_timestamp":1502582415580,"type":"search","details":{"query":"Calcados","query_type":"keyword","brand":{}}},"created_at":1502582400347}']"
]
},
execution_count: 236,
metadata: { },
output_type: "execute_result"
}
],
source: [
"cocu.take(10)"
]
},
{
cell_type: "code",
execution_count: 69,
metadata: {
collapsed: true
},
outputs: [ ],
source: [
"re.sub?"
]
},
{
cell_type: "code",
execution_count: 87,
metadata: {
collapsed: true
},
outputs: [ ],
source: [
"train_data = train_rdd.filter(lambda x: x != 'fv,sku,score').map(lambda row: row.split(',')).map(lambda e: (e[0], e[1], float(e[2]))).cache()"
]
},
{
cell_type: "code",
execution_count: 70,
metadata: {
collapsed: true
},
outputs: [ ],
source: [
"valid_data = valid_rdd.filter(lambda x: x != 'fv,sku,score').map(lambda row: row.split(',')).map(lambda e: (e[0], e[1], e[2])).cache()"
]
},
{
cell_type: "code",
execution_count: 72,
metadata: {
collapsed: true
},
outputs: [ ],
source: [
"test_data = test_rdd.filter(lambda x: x != 'fv,sku,score').map(lambda row: row.split(',')).map(lambda e: (e[0], e[1], e[2])).cache()"
]
},
{
cell_type: "code",
execution_count: 155,
metadata: { },
outputs: [
{
data: {
text/plain: [
"[Row(fv=813424, sku=1511, score='1'), ",
" Row(fv=1017617, sku=1662, score='0.5'), ",
" Row(fv=392066, sku=1662, score='1')]"
]
},
execution_count: 155,
metadata: { },
output_type: "execute_result"
}
],
source: [
"train_data.take(3)"
]
},
{
cell_type: "code",
execution_count: 71,
metadata: { },
outputs: [
{
data: {
text/plain: [
"[('8904296658784430607', 'BE139SHF93GPE', '0.5'), ",
" ('8387443859206657573', 'FA258SHF63HTC', '3'), ",
" ('3603778167605721116', 'HD124SRM40WZB', '4')]"
]
},
execution_count: 71,
metadata: { },
output_type: "execute_result"
}
],
source: [
"valid_data.take(3)"
]
},
{
cell_type: "code",
execution_count: 73,
metadata: { },
outputs: [
{
data: {
text/plain: [
"[('3980302175032894809', 'CI369APM10NSB', '0.5'), ",
" ('2538539940766825016', 'VI618SHF96VTV', '0.5'), ",
" ('5159285433814597554', 'DA923SHF01ZNY', '0.5')]"
]
},
execution_count: 73,
metadata: { },
output_type: "execute_result"
}
],
source: [
"test_data.take(3)"
]
},
{
cell_type: "code",
execution_count: 76,
metadata: {
collapsed: true
},
outputs: [ ],
source: [
"valid_to_predict = valid_data.map(lambda x: (x[0], x[1]))"
]
},
{
cell_type: "code",
execution_count: 77,
metadata: { },
outputs: [
{
data: {
text/plain: [
"[('8904296658784430607', 'BE139SHF93GPE'), ",
" ('8387443859206657573', 'FA258SHF63HTC'), ",
" ('3603778167605721116', 'HD124SRM40WZB')]"
]
},
execution_count: 77,
metadata: { },
output_type: "execute_result"
}
],
source: [
"valid_to_predict.take(3)"
]
},
{
cell_type: "code",
execution_count: 78,
metadata: {
collapsed: true
},
outputs: [ ],
source: [
"test_to_predict = test_data.map(lambda x: (x[0], x[1]))"
]
},
{
cell_type: "code",
execution_count: 79,
metadata: { },
outputs: [
{
data: {
text/plain: [
"[('3980302175032894809', 'CI369APM10NSB'), ",
" ('2538539940766825016', 'VI618SHF96VTV'), ",
" ('5159285433814597554', 'DA923SHF01ZNY')]"
]
},
execution_count: 79,
metadata: { },
output_type: "execute_result"
}
],
source: [
"test_to_predict.take(3)"
]
},
{
cell_type: "code",
execution_count: 132,
metadata: {
collapsed: true
},
outputs: [ ],
source: [
"from pyspark.mllib.recommendation import ALS ",
"import math"
]
},
{
cell_type: "code",
execution_count: 162,
metadata: {
collapsed: true
},
outputs: [ ],
source: [
"model = ALS.train?"
]
},
{
cell_type: "code",
execution_count: null,
metadata: {
collapsed: true
},
outputs: [ ],
source: [
"model = ALS.train"
]
},
{
cell_type: "code",
execution_count: 167,
metadata: { },
outputs: [
{
name: "stdout",
output_type: "stream",
text: [
"1.6183618802967397 ",
"1.7074869368155823 ",
"1.4520415029913245 "
]
}
],
source: [
"best_rank = -1 ",
"best_iteration = -1 ",
" ",
"for rank in [4, 6, 10]: ",
" model = ALS.train(train_data, rank, seed=5, iterations=5, lambda_=0.1) ",
" predictions = model.predictAll(valid_data.select('fv', 'sku').rdd).map(lambda r: ((r[0], r[1]), r[2])) ",
" rates_and_preds = valid_data.rdd.map(lambda r: ((int(r[0]), int(r[1])), float(r[2]))).join(predictions) ",
" error = math.sqrt(rates_and_preds.map(lambda r: (r[1][0] - r[1][1]) ** 2).mean()) ",
" print(error)"
]
},
{
cell_type: "code",
execution_count: 169,
metadata: { },
outputs: [
{
data: {
text/plain: [
"[((903500, 320127), -0.297609535386314), ",
" ((903500, 174229), -0.10394798458488858), ",
" ((903500, 337057), 0.03640408823616548)]"
]
},
execution_count: 169,
metadata: { },
output_type: "execute_result"
}
],
source: [
"predictions.take(3)"
]
},
{
cell_type: "code",
execution_count: 105,
metadata: {
collapsed: true
},
outputs: [ ],
source: [
"t1 = sc.parallelize([('a', 'a', 1), ('b', 'c', 2)]) ",
"t2 = sc.parallelize([('b', 3)])"
]
},
{
cell_type: "code",
execution_count: 108,
metadata: {
collapsed: true
},
outputs: [ ],
source: [
"r = t1.union?"
]
},
{
cell_type: "code",
execution_count: null,
metadata: {
collapsed: true
},
outputs: [ ],
source: [
"r = t1.union"
]
},
{
cell_type: "code",
execution_count: 107,
metadata: { },
outputs: [
{
data: {
text/plain: [
"[('b', ('c', 3))]"
]
},
execution_count: 107,
metadata: { },
output_type: "execute_result"
}
],
source: [ ]
},
{
cell_type: "code",
execution_count: 168,
metadata: { },
outputs: [
{
data: {
text/plain: [
"9223372036854775807"
]
},
execution_count: 168,
metadata: { },
output_type: "execute_result"
}
],
source: [
"import sys ",
"sys.maxsize"
]
},
{
cell_type: "code",
execution_count: 187,
metadata: {
collapsed: true
},
outputs: [ ],
source: [
"t1 = sc.parallelize([('a', 1), ('b', 2)]).toDF(['name', 'value'])"
]
},
{
cell_type: "code",
execution_count: 181,
metadata: {
collapsed: true
},
outputs: [ ],
source: [
"t1.toDF?"
]
},
{
cell_type: "code",
execution_count: null,
metadata: {
collapsed: true
},
outputs: [ ],
source: [
"t1 = sc.parallelize([('a', 1), ('b', 2)]).toDF"
]
},
{
cell_type: "code",
execution_count: 188,
metadata: {
collapsed: true
},
outputs: [ ],
source: [
"t1.createOrReplaceTempView('t2')"
]
},
{
cell_type: "code",
execution_count: 189,
metadata: {
collapsed: true
},
outputs: [ ],
source: [
"r = spark.sql('select * from t2')"
]
},
{
cell_type: "code",
execution_count: 190,
metadata: { },
outputs: [
{
data: {
text/plain: [
"[Row(name='a', value=1), Row(name='b', value=2)]"
]
},
execution_count: 190,
metadata: { },
output_type: "execute_result"
}
],
source: [
"r.take(3)"
]
},
{
cell_type: "code",
execution_count: 191,
metadata: {
collapsed: true
},
outputs: [ ],
source: [
"r = spark.sql('select array(name) from t2')"
]
},
{
cell_type: "code",
execution_count: 192,
metadata: { },
outputs: [
{
data: {
text/plain: [
"[Row(array(name)=['a']), Row(array(name)=['b'])]"
]
},
execution_count: 192,
metadata: { },
output_type: "execute_result"
}
],
source: [
"r.take(3)"
]
},
{
cell_type: "code",
execution_count: 194,
metadata: {
collapsed: true
},
outputs: [ ],
source: [
"sc = SparkContext.getOrCreate()"
]
},
{
cell_type: "code",
execution_count: 197,
metadata: {
collapsed: true
},
outputs: [ ],
source: [
"jvm = sc._jvm"
]
},
{
cell_type: "code",
execution_count: 198,
metadata: {
collapsed: true
},
outputs: [ ],
source: [
"o = jvm.PythonMLLibAPI()"
]
},
{
cell_type: "code",
execution_count: 200,
metadata: {
collapsed: true
},
outputs: [ ],
source: [
"m = o.trainALSModel?"
]
},
{
cell_type: "code",
execution_count: null,
metadata: {
collapsed: true
},
outputs: [ ],
source: [
"m = o.trainALSModel"
]
},
{
cell_type: "code",
execution_count: 232,
metadata: { },
outputs: [ ],
source: [
"a = np.array([[1], [2], [3]]) ",
"b = np.array([1, 2, 3])"
]
},
{
cell_type: "code",
execution_count: 233,
metadata: { },
outputs: [
{
name: "stdout",
output_type: "stream",
text: [
"[[1 2 3] ",
" [2 4 6] ",
" [3 6 9]] "
]
}
],
source: [
"n = np.multiply(a, b) ",
"print(n)"
]
},
{
cell_type: "code",
execution_count: 227,
metadata: { },
outputs: [ ],
source: [
"np.dot?"
]
},
{
cell_type: "code",
execution_count: null,
metadata: {
collapsed: true
},
outputs: [ ],
source: [ ]
},
{
cell_type: "code",
execution_count: null,
metadata: {
collapsed: true
},
outputs: [ ],
source: [ ]
}
],
metadata: {
kernelspec: {
display_name: "PySpark",
language: "python",
name: "pyspark"
},
language_info: {
codemirror_mode: {
name: "ipython",
version: 3
},
file_extension: ".py",
mimetype: "text/x-python",
name: "python",
nbconvert_exporter: "python",
pygments_lexer: "ipython3",
version: "3.5.2"
}
},
nbformat: 4,
nbformat_minor: 2
}
