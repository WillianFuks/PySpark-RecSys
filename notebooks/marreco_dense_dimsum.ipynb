{
cells: [
{
cell_type: "code",
execution_count: null,
metadata: {
collapsed: true
},
outputs: [ ],
source: [
"from pyspark.mllib.linalg import SparseVector ",
"from pyspark.mllib.linalg.distributed import RowMatrix ",
"import numpy as np ",
"from sklearn.metrics.pairwise import cosine_similarity ",
"import time ",
"from collections import defaultdict ",
"from pyspark.sql import functions as sfunc ",
"from pyspark.sql import types as stypes ",
"import math ",
"import sys ",
"from pyspark.ml.linalg import SparseVector ",
"from pyspark.mllib.linalg.distributed import RowMatrix ",
"from operator import itemgetter "
]
},
{
cell_type: "code",
execution_count: null,
metadata: {
collapsed: true
},
outputs: [ ],
source: [
"schema = stypes.StructType().add("fv", stypes.StringType()).add("sku", stypes.StringType()).add("score", stypes.FloatType()) ",
"train_df = spark.read.csv('gs://lbanor/pyspark/train_query*.gz', header=True, schema=schema) ",
"train_df.createOrReplaceTempView('test1')"
]
},
{
cell_type: "code",
execution_count: null,
metadata: {
collapsed: true
},
outputs: [ ],
source: [
"query = """ ",
"SELECT ",
" sku, ",
" ROW_NUMBER() OVER (ORDER BY SUM(1)) -1 idx ",
"FROM test1 ",
"GROUP BY 1 ",
"""" ",
"skus_rdd = spark.sql(query).rdd"
]
},
{
cell_type: "code",
execution_count: null,
metadata: {
collapsed: true
},
outputs: [ ],
source: [
"d = {row.sku: row.idx for row in skus_rdd.collect()} ",
"db = sc.broadcast(d) ",
" ",
"id_ = {value: key for key, value in d.items()} ",
"id_b = sc.broadcast(id_)"
]
},
{
cell_type: "code",
execution_count: null,
metadata: {
collapsed: true
},
outputs: [ ],
source: [
"query_users_items = """ ",
"SELECT ",
"data ",
"FROM( ",
" SELECT ",
" fv, ",
" COLLECT_LIST(STRUCT(sku, score * 2 AS score)) data ",
" FROM test1 ",
" GROUP BY 1 ",
") ",
"WHERE size(data) between 2 and 20 ",
"LIMIT 3 ",
"""""
]
},
{
cell_type: "code",
execution_count: null,
metadata: {
collapsed: true
},
outputs: [ ],
source: [
"users_rdd = spark.sql(query_users_items).rdd"
]
},
{
cell_type: "code",
execution_count: null,
metadata: {
collapsed: true
},
outputs: [ ],
source: [
"def make_sparse(row): ",
" tmp = sorted([(db.value[i.sku], i.score) for i in row.data], key=itemgetter(0)) ",
" return (SparseVector(len(db.value), [e[0] for e in tmp], [e[1] for e in tmp]),) ",
" ",
"t0 = time.time() ",
"mat = RowMatrix(users_rdd.map(lambda x: make_sparse(x)).toDF())"
]
},
{
cell_type: "code",
execution_count: null,
metadata: {
collapsed: true
},
outputs: [ ],
source: [
"a = mat.columnSimilarities(0)"
]
}
],
metadata: {
kernelspec: {
display_name: "PySpark",
language: "python",
name: "pyspark"
},
language_info: {
codemirror_mode: {
name: "ipython",
version: 3
},
file_extension: ".py",
mimetype: "text/x-python",
name: "python",
nbconvert_exporter: "python",
pygments_lexer: "ipython3",
version: "3.5.2"
}
},
nbformat: 4,
nbformat_minor: 2
}
