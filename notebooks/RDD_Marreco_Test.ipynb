{
 "cells": [
  {
   "cell_type": "code",
   "execution_count": 40,
   "metadata": {
    "collapsed": true
   },
   "outputs": [],
   "source": [
    "import operator"
   ]
  },
  {
   "cell_type": "code",
   "execution_count": 50,
   "metadata": {
    "collapsed": true
   },
   "outputs": [],
   "source": [
    "import pyspark"
   ]
  },
  {
   "cell_type": "code",
   "execution_count": 51,
   "metadata": {},
   "outputs": [
    {
     "data": {
      "text/plain": [
       "'2.2.0'"
      ]
     },
     "execution_count": 51,
     "metadata": {},
     "output_type": "execute_result"
    }
   ],
   "source": [
    "pyspark.__version__"
   ]
  },
  {
   "cell_type": "code",
   "execution_count": 30,
   "metadata": {
    "collapsed": true
   },
   "outputs": [],
   "source": [
    "train_rdd = sc.textFile('gs://lbanor/pyspark/train_query*.gz')"
   ]
  },
  {
   "cell_type": "code",
   "execution_count": 31,
   "metadata": {
    "collapsed": true
   },
   "outputs": [],
   "source": [
    "header = train_rdd.first()\n",
    "train_rdd = train_rdd.filter(lambda x: x != header).map(lambda x: x.split(','))"
   ]
  },
  {
   "cell_type": "code",
   "execution_count": 32,
   "metadata": {},
   "outputs": [
    {
     "data": {
      "text/plain": [
       "[['3383270414872112082', 'MO578SHF77RTI', '0.5'],\n",
       " ['7143168022217708588', 'DA923SHF54UJP', '0.5'],\n",
       " ['8844960186636261737', 'LU621ACM67NYU', '0.5']]"
      ]
     },
     "execution_count": 32,
     "metadata": {},
     "output_type": "execute_result"
    }
   ],
   "source": [
    "train_rdd.take(3)"
   ]
  },
  {
   "cell_type": "code",
   "execution_count": 33,
   "metadata": {
    "collapsed": true
   },
   "outputs": [],
   "source": [
    "train_rdd = train_rdd.map(lambda x: (x[0], (x[1], float(x[2])))).groupByKey().mapValues(list).filter(lambda x: len(x[1]) > 1)"
   ]
  },
  {
   "cell_type": "code",
   "execution_count": 34,
   "metadata": {},
   "outputs": [
    {
     "data": {
      "text/plain": [
       "[('7357279563665682536',\n",
       "  [('CO515SHF91TPO', 0.5),\n",
       "   ('MA862SHF07OZG', 1.0),\n",
       "   ('DA923SHF00KPV', 0.5),\n",
       "   ('RA626SHF48VKP', 0.5),\n",
       "   ('UP428APF54RFP', 0.5),\n",
       "   ('OU295APF41KVE', 0.5)]),\n",
       " ('3831524958866269889',\n",
       "  [('CA278SHF45EVY', 1.0),\n",
       "   ('SA232SHF43XLS', 0.5),\n",
       "   ('SA232SHF74ADT', 0.5),\n",
       "   ('LA628SHF52JSD', 0.5),\n",
       "   ('SA232SHF29PWG', 0.5),\n",
       "   ('DO302SHF23LDS', 0.5),\n",
       "   ('DO302SHF37LDE', 0.5),\n",
       "   ('CA278SHF48EVV', 0.5),\n",
       "   ('LA628SHF40IHZ', 0.5),\n",
       "   ('CA278SHF97UGW', 0.5),\n",
       "   ('CA278SHF45EVY', 0.5)]),\n",
       " ('7808161502332133024',\n",
       "  [('AS296SCF58FCV', 0.5), ('CA278SHF78LIB', 0.5), ('CA278SHF77LIC', 0.5)])]"
      ]
     },
     "execution_count": 34,
     "metadata": {},
     "output_type": "execute_result"
    }
   ],
   "source": [
    "train_rdd.take(3)"
   ]
  },
  {
   "cell_type": "code",
   "execution_count": 35,
   "metadata": {
    "collapsed": true
   },
   "outputs": [],
   "source": [
    "train_rdd = train_rdd.map(lambda corr: [[((corr[1][i][0], corr[1][j][0]), corr[1][i][1] * corr[1][j][1]) for i in range(len(corr[1]))] for j in range(len(corr[1]))])"
   ]
  },
  {
   "cell_type": "code",
   "execution_count": 36,
   "metadata": {},
   "outputs": [
    {
     "data": {
      "text/plain": [
       "[[[(('CO515SHF91TPO', 'CO515SHF91TPO'), 0.25),\n",
       "   (('MA862SHF07OZG', 'CO515SHF91TPO'), 0.5),\n",
       "   (('DA923SHF00KPV', 'CO515SHF91TPO'), 0.25),\n",
       "   (('RA626SHF48VKP', 'CO515SHF91TPO'), 0.25),\n",
       "   (('UP428APF54RFP', 'CO515SHF91TPO'), 0.25),\n",
       "   (('OU295APF41KVE', 'CO515SHF91TPO'), 0.25)],\n",
       "  [(('CO515SHF91TPO', 'MA862SHF07OZG'), 0.5),\n",
       "   (('MA862SHF07OZG', 'MA862SHF07OZG'), 1.0),\n",
       "   (('DA923SHF00KPV', 'MA862SHF07OZG'), 0.5),\n",
       "   (('RA626SHF48VKP', 'MA862SHF07OZG'), 0.5),\n",
       "   (('UP428APF54RFP', 'MA862SHF07OZG'), 0.5),\n",
       "   (('OU295APF41KVE', 'MA862SHF07OZG'), 0.5)],\n",
       "  [(('CO515SHF91TPO', 'DA923SHF00KPV'), 0.25),\n",
       "   (('MA862SHF07OZG', 'DA923SHF00KPV'), 0.5),\n",
       "   (('DA923SHF00KPV', 'DA923SHF00KPV'), 0.25),\n",
       "   (('RA626SHF48VKP', 'DA923SHF00KPV'), 0.25),\n",
       "   (('UP428APF54RFP', 'DA923SHF00KPV'), 0.25),\n",
       "   (('OU295APF41KVE', 'DA923SHF00KPV'), 0.25)],\n",
       "  [(('CO515SHF91TPO', 'RA626SHF48VKP'), 0.25),\n",
       "   (('MA862SHF07OZG', 'RA626SHF48VKP'), 0.5),\n",
       "   (('DA923SHF00KPV', 'RA626SHF48VKP'), 0.25),\n",
       "   (('RA626SHF48VKP', 'RA626SHF48VKP'), 0.25),\n",
       "   (('UP428APF54RFP', 'RA626SHF48VKP'), 0.25),\n",
       "   (('OU295APF41KVE', 'RA626SHF48VKP'), 0.25)],\n",
       "  [(('CO515SHF91TPO', 'UP428APF54RFP'), 0.25),\n",
       "   (('MA862SHF07OZG', 'UP428APF54RFP'), 0.5),\n",
       "   (('DA923SHF00KPV', 'UP428APF54RFP'), 0.25),\n",
       "   (('RA626SHF48VKP', 'UP428APF54RFP'), 0.25),\n",
       "   (('UP428APF54RFP', 'UP428APF54RFP'), 0.25),\n",
       "   (('OU295APF41KVE', 'UP428APF54RFP'), 0.25)],\n",
       "  [(('CO515SHF91TPO', 'OU295APF41KVE'), 0.25),\n",
       "   (('MA862SHF07OZG', 'OU295APF41KVE'), 0.5),\n",
       "   (('DA923SHF00KPV', 'OU295APF41KVE'), 0.25),\n",
       "   (('RA626SHF48VKP', 'OU295APF41KVE'), 0.25),\n",
       "   (('UP428APF54RFP', 'OU295APF41KVE'), 0.25),\n",
       "   (('OU295APF41KVE', 'OU295APF41KVE'), 0.25)]],\n",
       " [[(('CA278SHF45EVY', 'CA278SHF45EVY'), 1.0),\n",
       "   (('SA232SHF43XLS', 'CA278SHF45EVY'), 0.5),\n",
       "   (('SA232SHF74ADT', 'CA278SHF45EVY'), 0.5),\n",
       "   (('LA628SHF52JSD', 'CA278SHF45EVY'), 0.5),\n",
       "   (('SA232SHF29PWG', 'CA278SHF45EVY'), 0.5),\n",
       "   (('DO302SHF23LDS', 'CA278SHF45EVY'), 0.5),\n",
       "   (('DO302SHF37LDE', 'CA278SHF45EVY'), 0.5),\n",
       "   (('CA278SHF48EVV', 'CA278SHF45EVY'), 0.5),\n",
       "   (('LA628SHF40IHZ', 'CA278SHF45EVY'), 0.5),\n",
       "   (('CA278SHF97UGW', 'CA278SHF45EVY'), 0.5),\n",
       "   (('CA278SHF45EVY', 'CA278SHF45EVY'), 0.5)],\n",
       "  [(('CA278SHF45EVY', 'SA232SHF43XLS'), 0.5),\n",
       "   (('SA232SHF43XLS', 'SA232SHF43XLS'), 0.25),\n",
       "   (('SA232SHF74ADT', 'SA232SHF43XLS'), 0.25),\n",
       "   (('LA628SHF52JSD', 'SA232SHF43XLS'), 0.25),\n",
       "   (('SA232SHF29PWG', 'SA232SHF43XLS'), 0.25),\n",
       "   (('DO302SHF23LDS', 'SA232SHF43XLS'), 0.25),\n",
       "   (('DO302SHF37LDE', 'SA232SHF43XLS'), 0.25),\n",
       "   (('CA278SHF48EVV', 'SA232SHF43XLS'), 0.25),\n",
       "   (('LA628SHF40IHZ', 'SA232SHF43XLS'), 0.25),\n",
       "   (('CA278SHF97UGW', 'SA232SHF43XLS'), 0.25),\n",
       "   (('CA278SHF45EVY', 'SA232SHF43XLS'), 0.25)],\n",
       "  [(('CA278SHF45EVY', 'SA232SHF74ADT'), 0.5),\n",
       "   (('SA232SHF43XLS', 'SA232SHF74ADT'), 0.25),\n",
       "   (('SA232SHF74ADT', 'SA232SHF74ADT'), 0.25),\n",
       "   (('LA628SHF52JSD', 'SA232SHF74ADT'), 0.25),\n",
       "   (('SA232SHF29PWG', 'SA232SHF74ADT'), 0.25),\n",
       "   (('DO302SHF23LDS', 'SA232SHF74ADT'), 0.25),\n",
       "   (('DO302SHF37LDE', 'SA232SHF74ADT'), 0.25),\n",
       "   (('CA278SHF48EVV', 'SA232SHF74ADT'), 0.25),\n",
       "   (('LA628SHF40IHZ', 'SA232SHF74ADT'), 0.25),\n",
       "   (('CA278SHF97UGW', 'SA232SHF74ADT'), 0.25),\n",
       "   (('CA278SHF45EVY', 'SA232SHF74ADT'), 0.25)],\n",
       "  [(('CA278SHF45EVY', 'LA628SHF52JSD'), 0.5),\n",
       "   (('SA232SHF43XLS', 'LA628SHF52JSD'), 0.25),\n",
       "   (('SA232SHF74ADT', 'LA628SHF52JSD'), 0.25),\n",
       "   (('LA628SHF52JSD', 'LA628SHF52JSD'), 0.25),\n",
       "   (('SA232SHF29PWG', 'LA628SHF52JSD'), 0.25),\n",
       "   (('DO302SHF23LDS', 'LA628SHF52JSD'), 0.25),\n",
       "   (('DO302SHF37LDE', 'LA628SHF52JSD'), 0.25),\n",
       "   (('CA278SHF48EVV', 'LA628SHF52JSD'), 0.25),\n",
       "   (('LA628SHF40IHZ', 'LA628SHF52JSD'), 0.25),\n",
       "   (('CA278SHF97UGW', 'LA628SHF52JSD'), 0.25),\n",
       "   (('CA278SHF45EVY', 'LA628SHF52JSD'), 0.25)],\n",
       "  [(('CA278SHF45EVY', 'SA232SHF29PWG'), 0.5),\n",
       "   (('SA232SHF43XLS', 'SA232SHF29PWG'), 0.25),\n",
       "   (('SA232SHF74ADT', 'SA232SHF29PWG'), 0.25),\n",
       "   (('LA628SHF52JSD', 'SA232SHF29PWG'), 0.25),\n",
       "   (('SA232SHF29PWG', 'SA232SHF29PWG'), 0.25),\n",
       "   (('DO302SHF23LDS', 'SA232SHF29PWG'), 0.25),\n",
       "   (('DO302SHF37LDE', 'SA232SHF29PWG'), 0.25),\n",
       "   (('CA278SHF48EVV', 'SA232SHF29PWG'), 0.25),\n",
       "   (('LA628SHF40IHZ', 'SA232SHF29PWG'), 0.25),\n",
       "   (('CA278SHF97UGW', 'SA232SHF29PWG'), 0.25),\n",
       "   (('CA278SHF45EVY', 'SA232SHF29PWG'), 0.25)],\n",
       "  [(('CA278SHF45EVY', 'DO302SHF23LDS'), 0.5),\n",
       "   (('SA232SHF43XLS', 'DO302SHF23LDS'), 0.25),\n",
       "   (('SA232SHF74ADT', 'DO302SHF23LDS'), 0.25),\n",
       "   (('LA628SHF52JSD', 'DO302SHF23LDS'), 0.25),\n",
       "   (('SA232SHF29PWG', 'DO302SHF23LDS'), 0.25),\n",
       "   (('DO302SHF23LDS', 'DO302SHF23LDS'), 0.25),\n",
       "   (('DO302SHF37LDE', 'DO302SHF23LDS'), 0.25),\n",
       "   (('CA278SHF48EVV', 'DO302SHF23LDS'), 0.25),\n",
       "   (('LA628SHF40IHZ', 'DO302SHF23LDS'), 0.25),\n",
       "   (('CA278SHF97UGW', 'DO302SHF23LDS'), 0.25),\n",
       "   (('CA278SHF45EVY', 'DO302SHF23LDS'), 0.25)],\n",
       "  [(('CA278SHF45EVY', 'DO302SHF37LDE'), 0.5),\n",
       "   (('SA232SHF43XLS', 'DO302SHF37LDE'), 0.25),\n",
       "   (('SA232SHF74ADT', 'DO302SHF37LDE'), 0.25),\n",
       "   (('LA628SHF52JSD', 'DO302SHF37LDE'), 0.25),\n",
       "   (('SA232SHF29PWG', 'DO302SHF37LDE'), 0.25),\n",
       "   (('DO302SHF23LDS', 'DO302SHF37LDE'), 0.25),\n",
       "   (('DO302SHF37LDE', 'DO302SHF37LDE'), 0.25),\n",
       "   (('CA278SHF48EVV', 'DO302SHF37LDE'), 0.25),\n",
       "   (('LA628SHF40IHZ', 'DO302SHF37LDE'), 0.25),\n",
       "   (('CA278SHF97UGW', 'DO302SHF37LDE'), 0.25),\n",
       "   (('CA278SHF45EVY', 'DO302SHF37LDE'), 0.25)],\n",
       "  [(('CA278SHF45EVY', 'CA278SHF48EVV'), 0.5),\n",
       "   (('SA232SHF43XLS', 'CA278SHF48EVV'), 0.25),\n",
       "   (('SA232SHF74ADT', 'CA278SHF48EVV'), 0.25),\n",
       "   (('LA628SHF52JSD', 'CA278SHF48EVV'), 0.25),\n",
       "   (('SA232SHF29PWG', 'CA278SHF48EVV'), 0.25),\n",
       "   (('DO302SHF23LDS', 'CA278SHF48EVV'), 0.25),\n",
       "   (('DO302SHF37LDE', 'CA278SHF48EVV'), 0.25),\n",
       "   (('CA278SHF48EVV', 'CA278SHF48EVV'), 0.25),\n",
       "   (('LA628SHF40IHZ', 'CA278SHF48EVV'), 0.25),\n",
       "   (('CA278SHF97UGW', 'CA278SHF48EVV'), 0.25),\n",
       "   (('CA278SHF45EVY', 'CA278SHF48EVV'), 0.25)],\n",
       "  [(('CA278SHF45EVY', 'LA628SHF40IHZ'), 0.5),\n",
       "   (('SA232SHF43XLS', 'LA628SHF40IHZ'), 0.25),\n",
       "   (('SA232SHF74ADT', 'LA628SHF40IHZ'), 0.25),\n",
       "   (('LA628SHF52JSD', 'LA628SHF40IHZ'), 0.25),\n",
       "   (('SA232SHF29PWG', 'LA628SHF40IHZ'), 0.25),\n",
       "   (('DO302SHF23LDS', 'LA628SHF40IHZ'), 0.25),\n",
       "   (('DO302SHF37LDE', 'LA628SHF40IHZ'), 0.25),\n",
       "   (('CA278SHF48EVV', 'LA628SHF40IHZ'), 0.25),\n",
       "   (('LA628SHF40IHZ', 'LA628SHF40IHZ'), 0.25),\n",
       "   (('CA278SHF97UGW', 'LA628SHF40IHZ'), 0.25),\n",
       "   (('CA278SHF45EVY', 'LA628SHF40IHZ'), 0.25)],\n",
       "  [(('CA278SHF45EVY', 'CA278SHF97UGW'), 0.5),\n",
       "   (('SA232SHF43XLS', 'CA278SHF97UGW'), 0.25),\n",
       "   (('SA232SHF74ADT', 'CA278SHF97UGW'), 0.25),\n",
       "   (('LA628SHF52JSD', 'CA278SHF97UGW'), 0.25),\n",
       "   (('SA232SHF29PWG', 'CA278SHF97UGW'), 0.25),\n",
       "   (('DO302SHF23LDS', 'CA278SHF97UGW'), 0.25),\n",
       "   (('DO302SHF37LDE', 'CA278SHF97UGW'), 0.25),\n",
       "   (('CA278SHF48EVV', 'CA278SHF97UGW'), 0.25),\n",
       "   (('LA628SHF40IHZ', 'CA278SHF97UGW'), 0.25),\n",
       "   (('CA278SHF97UGW', 'CA278SHF97UGW'), 0.25),\n",
       "   (('CA278SHF45EVY', 'CA278SHF97UGW'), 0.25)],\n",
       "  [(('CA278SHF45EVY', 'CA278SHF45EVY'), 0.5),\n",
       "   (('SA232SHF43XLS', 'CA278SHF45EVY'), 0.25),\n",
       "   (('SA232SHF74ADT', 'CA278SHF45EVY'), 0.25),\n",
       "   (('LA628SHF52JSD', 'CA278SHF45EVY'), 0.25),\n",
       "   (('SA232SHF29PWG', 'CA278SHF45EVY'), 0.25),\n",
       "   (('DO302SHF23LDS', 'CA278SHF45EVY'), 0.25),\n",
       "   (('DO302SHF37LDE', 'CA278SHF45EVY'), 0.25),\n",
       "   (('CA278SHF48EVV', 'CA278SHF45EVY'), 0.25),\n",
       "   (('LA628SHF40IHZ', 'CA278SHF45EVY'), 0.25),\n",
       "   (('CA278SHF97UGW', 'CA278SHF45EVY'), 0.25),\n",
       "   (('CA278SHF45EVY', 'CA278SHF45EVY'), 0.25)]],\n",
       " [[(('AS296SCF58FCV', 'AS296SCF58FCV'), 0.25),\n",
       "   (('CA278SHF78LIB', 'AS296SCF58FCV'), 0.25),\n",
       "   (('CA278SHF77LIC', 'AS296SCF58FCV'), 0.25)],\n",
       "  [(('AS296SCF58FCV', 'CA278SHF78LIB'), 0.25),\n",
       "   (('CA278SHF78LIB', 'CA278SHF78LIB'), 0.25),\n",
       "   (('CA278SHF77LIC', 'CA278SHF78LIB'), 0.25)],\n",
       "  [(('AS296SCF58FCV', 'CA278SHF77LIC'), 0.25),\n",
       "   (('CA278SHF78LIB', 'CA278SHF77LIC'), 0.25),\n",
       "   (('CA278SHF77LIC', 'CA278SHF77LIC'), 0.25)]]]"
      ]
     },
     "execution_count": 36,
     "metadata": {},
     "output_type": "execute_result"
    }
   ],
   "source": [
    "train_rdd.take(3):"
   ]
  },
  {
   "cell_type": "code",
   "execution_count": 37,
   "metadata": {
    "collapsed": true
   },
   "outputs": [],
   "source": [
    "train_rdd = train_rdd.flatMap(lambda x: x).flatMap(lambda x: x)"
   ]
  },
  {
   "cell_type": "code",
   "execution_count": 38,
   "metadata": {},
   "outputs": [
    {
     "data": {
      "text/plain": [
       "[(('LU759APM92BCD', 'LU759APM92BCD'), 0.25),\n",
       " (('MA099APM20LVF', 'LU759APM92BCD'), 0.25),\n",
       " (('DU387APM43GAQ', 'LU759APM92BCD'), 0.25)]"
      ]
     },
     "execution_count": 38,
     "metadata": {},
     "output_type": "execute_result"
    }
   ],
   "source": [
    "train_rdd.take(3)"
   ]
  },
  {
   "cell_type": "code",
   "execution_count": 43,
   "metadata": {},
   "outputs": [
    {
     "data": {
      "text/plain": [
       "110201577"
      ]
     },
     "execution_count": 43,
     "metadata": {},
     "output_type": "execute_result"
    }
   ],
   "source": [
    "train_rdd.count()"
   ]
  },
  {
   "cell_type": "code",
   "execution_count": 41,
   "metadata": {
    "collapsed": true
   },
   "outputs": [],
   "source": [
    "r = train_rdd.reduceByKey(operator.add)"
   ]
  },
  {
   "cell_type": "code",
   "execution_count": 42,
   "metadata": {},
   "outputs": [
    {
     "data": {
      "text/plain": [
       "[(('VI185ACF98VRP', 'SA232ACF26KXP'), 0.75),\n",
       " (('HA651APF16CBF', 'CA558APF27RGU'), 0.25),\n",
       " (('AG170APF90ZUN', 'MA250APF39AWQ'), 0.5)]"
      ]
     },
     "execution_count": 42,
     "metadata": {},
     "output_type": "execute_result"
    }
   ],
   "source": [
    "r.take(3) # taking almost 30 mins now..."
   ]
  },
  {
   "cell_type": "code",
   "execution_count": 61,
   "metadata": {
    "collapsed": true
   },
   "outputs": [],
   "source": [
    "r = sc.parallelize([[(i, i) for i in range(300000) ] ]).flatMap(lambda x: x)\n",
    "r2 = sc.parallelize([[(i, i) for i in range(300000) ] ]).flatMap(lambda x: x)"
   ]
  },
  {
   "cell_type": "code",
   "execution_count": 65,
   "metadata": {
    "collapsed": true
   },
   "outputs": [],
   "source": [
    "r3 = r.cartesian(r2)"
   ]
  }
 ],
 "metadata": {
  "kernelspec": {
   "display_name": "PySpark",
   "language": "python",
   "name": "pyspark"
  },
  "language_info": {
   "codemirror_mode": {
    "name": "ipython",
    "version": 3
   },
   "file_extension": ".py",
   "mimetype": "text/x-python",
   "name": "python",
   "nbconvert_exporter": "python",
   "pygments_lexer": "ipython3",
   "version": "3.5.2"
  }
 },
 "nbformat": 4,
 "nbformat_minor": 2
}
