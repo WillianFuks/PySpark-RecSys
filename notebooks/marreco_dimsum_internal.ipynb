{
cells: [
{
cell_type: "code",
execution_count: 2,
metadata: {
collapsed: true
},
outputs: [ ],
source: [
"from pyspark.mllib.linalg import SparseVector ",
"from pyspark.mllib.linalg.distributed import RowMatrix ",
"import numpy as np ",
"from sklearn.metrics.pairwise import cosine_similarity ",
"import time ",
"from collections import defaultdict ",
"from pyspark.sql import functions as sfunc ",
"from pyspark.sql import types as stypes ",
"import math ",
"import sys ",
"from pyspark.ml.linalg import SparseVector ",
"from pyspark.mllib.linalg.distributed import RowMatrix ",
"from operator import itemgetter ",
"import operator ",
"import random"
]
},
{
cell_type: "code",
execution_count: 3,
metadata: {
collapsed: true
},
outputs: [ ],
source: [
"schema = stypes.StructType().add("fv", stypes.StringType()).add("sku", stypes.StringType()).add("score", stypes.FloatType()) ",
"train_df = spark.read.csv('gs://lbanor/pyspark/train_query*.gz', header=True, schema=schema) ",
"train_df.createOrReplaceTempView('test1')"
]
},
{
cell_type: "code",
execution_count: 188,
metadata: { },
outputs: [
{
name: "stdout",
output_type: "stream",
text: [
"[Row(fv='1005105267406228429', sku='FI911SHF89UBM-50', score=5.0)] "
]
}
],
source: [
"print(train_df.rdd.filter(lambda x: x.sku == 'FI911SHF89UBM-50').take(3))"
]
},
{
cell_type: "code",
execution_count: 82,
metadata: {
collapsed: true
},
outputs: [ ],
source: [
"# query = """ ",
"# SELECT ",
"# sku, ",
"# ROW_NUMBER() OVER (ORDER BY SUM(1)) -1 idx ",
"# FROM test1 ",
"# GROUP BY 1 ",
"# """ ",
"# skus_rdd = spark.sql(query).rdd"
]
},
{
cell_type: "code",
execution_count: 4,
metadata: {
collapsed: true
},
outputs: [ ],
source: [
"query_statistics = """ ",
"SELECT ",
" sku, ",
" SQRT(10 * LOG(COUNT(sku) OVER()) / {threshold}) / SQRT(SUM(score * score)) p, ",
" IF(SQRT(10 * LOG(COUNT(sku) OVER()) / {threshold}) > SQRT(SUM(score * score)), SQRT(SUM(score * score)), SQRT(10 * LOG(COUNT(sku) OVER()) / {threshold})) q --- implements the min(gamma, ||c||) ",
"FROM test1 ",
"GROUP BY 1 ",
"""""
]
},
{
cell_type: "code",
execution_count: 8,
metadata: { },
outputs: [ ],
source: [
"skus_stats = spark.sql(query_statistics.format(threshold=0.1))"
]
},
{
cell_type: "code",
execution_count: 9,
metadata: { },
outputs: [
{
name: "stdout",
output_type: "stream",
text: [
"[Row(sku='FI911SHF89UBM-50', p=7.132311576894841, q=5.0)] "
]
}
],
source: [
"print(skus_stats.rdd.filter(lambda x: x.sku == 'FI911SHF89UBM-50').take(3))"
]
},
{
cell_type: "code",
execution_count: 178,
metadata: { },
outputs: [
{
data: {
text/plain: [
"[Row(sku='PO140ACU06DDD', p=2.4697175158107982, q=14.439529078193651), ",
" Row(sku='PO140ACU76FVN', p=35.661557884474206, q=1.0), ",
" Row(sku='JU082SHF02WWZ', p=3.790780833876121, q=9.40744386111339)]"
]
},
execution_count: 178,
metadata: { },
output_type: "execute_result"
}
],
source: [
"sku_stats.take(3)"
]
},
{
cell_type: "code",
execution_count: 194,
metadata: { },
outputs: [
{
name: "stdout",
output_type: "stream",
text: [
"[] "
]
}
],
source: [
"print(skus_stats.rdd.filter(lambda x: x.sku == 'FI911SHF89UBM-50').take(3))"
]
},
{
cell_type: "code",
execution_count: null,
metadata: {
collapsed: true
},
outputs: [ ],
source: [
"# query_statistics = """ ",
"# SELECT ",
"# sku, ",
"# {gamma} / SQRT(SUM(score * score)) p, ",
"# IF({gamma} > SQRT(SUM(score * score)), SQRT(SUM(score * score)), {gamma}) q ",
"# FROM test1 ",
"# GROUP BY 1 ",
"# """"
]
},
{
cell_type: "code",
execution_count: 60,
metadata: {
collapsed: true
},
outputs: [ ],
source: [
"# def get_gamma(threshold, numCols): ",
"# return math.sqrt(10 * math.log(numCols) / threshold) if threshold > 10e-6 else math.inf"
]
},
{
cell_type: "code",
execution_count: 76,
metadata: { },
outputs: [
{
name: "stdout",
output_type: "stream",
text: [
"35.57234899487128 "
]
}
],
source: [
"# gamma_b = sc.broadcast(get_gamma(10e-2)) ",
"# print(gamma_b.value)"
]
},
{
cell_type: "code",
execution_count: 77,
metadata: { },
outputs: [ ],
source: [
"# skus_stats = spark.sql(query_statistics.format(gamma=gamma_b.value))"
]
},
{
cell_type: "code",
execution_count: 78,
metadata: { },
outputs: [
{
data: {
text/plain: [
"[Row(sku='NI531SRM74IHX', p=2.8758539658272255, q=12.36931687685298), ",
" Row(sku='MO578SHF45QNE', p=0.5225157525775272, q=35.57234899487128)]"
]
},
execution_count: 78,
metadata: { },
output_type: "execute_result"
}
],
source: [
"# skus_stats.head(2)"
]
},
{
cell_type: "code",
execution_count: 10,
metadata: { },
outputs: [ ],
source: [
"pq_b = sc.broadcast({row.sku: [row.p, row.q] for row in skus_stats.collect()})"
]
},
{
cell_type: "code",
execution_count: 11,
metadata: { },
outputs: [
{
data: {
text/plain: [
"[7.132311576894841, 5.0]"
]
},
execution_count: 11,
metadata: { },
output_type: "execute_result"
}
],
source: [
"pq_b.value['FI911SHF89UBM-50']"
]
},
{
cell_type: "code",
execution_count: 157,
metadata: {
collapsed: true
},
outputs: [ ],
source: [
"#skus_idx_b = sc.broadcast({sku: idx for idx, sku in enumerate(pq_b.value.keys())})"
]
},
{
cell_type: "code",
execution_count: 158,
metadata: { },
outputs: [ ],
source: [
"#idx_skus_b = sc.broadcast({value: key for key, value in skus_idx_b.value.items()})"
]
},
{
cell_type: "code",
execution_count: 53,
metadata: {
collapsed: true
},
outputs: [ ],
source: [
"# d = {row.sku: row.idx for row in skus_rdd.collect()} ",
"# db = sc.broadcast(d) ",
" ",
"# id_ = {value: key for key, value in d.items()} ",
"# id_b = sc.broadcast(id_)"
]
},
{
cell_type: "code",
execution_count: 159,
metadata: {
collapsed: true
},
outputs: [ ],
source: [
"#numCols = sc.broadcast(len(idx_skus_b.value))"
]
},
{
cell_type: "code",
execution_count: 57,
metadata: { },
outputs: [ ],
source: [
"# p = [0] * numCols.value ",
"# for row in skus_stats"
]
},
{
cell_type: "code",
execution_count: 55,
metadata: {
collapsed: true
},
outputs: [ ],
source: [
"#p = {row.sku: gamma_b.value / row.norm for row in skus_stats.collect()} # if 0 happens as the ``norm`` we expected an Exception to be raised. ",
"#p_b = sc.broadcast(p)"
]
},
{
cell_type: "code",
execution_count: 34,
metadata: { },
outputs: [ ],
source: [
"#q = {row.sku: gamma_b.value / row.norm for row in skus_stats.collect()}"
]
},
{
cell_type: "code",
execution_count: 35,
metadata: { },
outputs: [
{
data: {
text/plain: [
"312988"
]
},
execution_count: 35,
metadata: { },
output_type: "execute_result"
}
],
source: [
"#numCols.value"
]
},
{
cell_type: "code",
execution_count: 31,
metadata: { },
outputs: [
{
data: {
text/plain: [
"12.36931687685298"
]
},
execution_count: 31,
metadata: { },
output_type: "execute_result"
}
],
source: [
"#skus_s['NI531SRM74IHX']"
]
},
{
cell_type: "code",
execution_count: 12,
metadata: {
collapsed: true
},
outputs: [ ],
source: [
"query_users_items = """ ",
"SELECT ",
"data ",
"FROM( ",
" SELECT ",
" fv, ",
" COLLECT_LIST(STRUCT(sku, score)) data ",
" FROM test1 ",
" GROUP BY 1 ",
") ",
"WHERE SIZE(data) BETWEEN 2 AND 200 ",
"""" ",
" ",
"t0 = time.time() ",
"users = spark.sql(query_users_items) ",
"users_rdd = users.rdd"
]
},
{
cell_type: "code",
execution_count: 148,
metadata: { },
outputs: [
{
data: {
text/plain: [
"[Row(data=[Row(sku='CO796SCF87LXG', score=0.5), Row(sku='CO796SCM72JGT', score=0.5), Row(sku='CO796SCM23HHW', score=0.5)]), ",
" Row(data=[Row(sku='HA723APF18CPL', score=0.5), Row(sku='CO515APF44YPR', score=0.5), Row(sku='LA906APF69OQC', score=0.5), Row(sku='TU142APF19BPC', score=0.5), Row(sku='CO515APF27DIA', score=0.5), Row(sku='GA753APF40NJR', score=0.5), Row(sku='GA753APF41NJQ', score=1.0)])]"
]
},
execution_count: 148,
metadata: { },
output_type: "execute_result"
}
],
source: [
"users.head(2)"
]
},
{
cell_type: "code",
execution_count: 13,
metadata: {
collapsed: true
},
outputs: [ ],
source: [
"def map_cosines(row): ",
" for i in range(len(row)): ",
" value_i = row[i].score / pq_b.value[row[i].sku][1] ",
" if random.random() < pq_b.value[row[i].sku][0]: ",
" for j in range(i + 1, len(row)): ",
" value_j = row[j].score / pq_b.value[row[j].sku][1] ",
" if random.random() < pq_b.value[row[i].sku][0]: ",
" yield ((row[i].sku, row[j].sku), value_i * value_j)"
]
},
{
cell_type: "code",
execution_count: 14,
metadata: { },
outputs: [ ],
source: [
"users2 = users.rdd.flatMap(lambda row: map_cosines(row.data))"
]
},
{
cell_type: "code",
execution_count: 150,
metadata: { },
outputs: [
{
data: {
text/plain: [
"[(('CO796SCM72JGT', 'CO796SCM23HHW'), 0.0002015811797719921), ",
" (('HA723APF18CPL', 'CO515APF44YPR'), 0.031234752377721216)]"
]
},
execution_count: 150,
metadata: { },
output_type: "execute_result"
}
],
source: [
"users2.take(2)"
]
},
{
cell_type: "code",
execution_count: 15,
metadata: { },
outputs: [ ],
source: [
"final = users2.reduceByKey(operator.add)"
]
},
{
cell_type: "code",
execution_count: 16,
metadata: { },
outputs: [
{
name: "stdout",
output_type: "stream",
text: [
"[(('VI618SHF35NCY-51', 'LU773ACF56ILV'), 0.029501220638256383), (('FI911APF72ZHF', 'KA952APF52DNB'), 0.015504341823651058), (('FA865ACF45CCS', 'QU097ACF14BCMN'), 0.7071067811865475)] ",
"363.733115196228 "
]
}
],
source: [
"t0 = time.time() ",
"print(final.take(3)) ",
"print(time.time() - t0)"
]
},
{
cell_type: "code",
execution_count: null,
metadata: {
collapsed: true
},
outputs: [ ],
source: [ ]
},
{
cell_type: "code",
execution_count: null,
metadata: {
collapsed: true
},
outputs: [ ],
source: [ ]
},
{
cell_type: "code",
execution_count: null,
metadata: {
collapsed: true
},
outputs: [ ],
source: [ ]
},
{
cell_type: "code",
execution_count: null,
metadata: {
collapsed: true
},
outputs: [ ],
source: [ ]
},
{
cell_type: "code",
execution_count: null,
metadata: {
collapsed: true
},
outputs: [ ],
source: [ ]
},
{
cell_type: "code",
execution_count: null,
metadata: {
collapsed: true
},
outputs: [ ],
source: [ ]
}
],
metadata: {
kernelspec: {
display_name: "PySpark",
language: "python",
name: "pyspark"
},
language_info: {
codemirror_mode: {
name: "ipython",
version: 3
},
file_extension: ".py",
mimetype: "text/x-python",
name: "python",
nbconvert_exporter: "python",
pygments_lexer: "ipython3",
version: "3.5.2"
}
},
nbformat: 4,
nbformat_minor: 2
}
