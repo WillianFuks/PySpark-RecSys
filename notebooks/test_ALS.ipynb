{
 "cells": [
  {
   "cell_type": "code",
   "execution_count": 2,
   "metadata": {},
   "outputs": [
    {
     "data": {
      "text/plain": [
       "['In',\n",
       " 'Out',\n",
       " 'SQLContext',\n",
       " 'SparkConf',\n",
       " 'SparkContext',\n",
       " 'SparkSession',\n",
       " '_',\n",
       " '__',\n",
       " '___',\n",
       " '__builtin__',\n",
       " '__builtins__',\n",
       " '__doc__',\n",
       " '__loader__',\n",
       " '__name__',\n",
       " '__package__',\n",
       " '__spec__',\n",
       " '_dh',\n",
       " '_i',\n",
       " '_i1',\n",
       " '_i2',\n",
       " '_ih',\n",
       " '_ii',\n",
       " '_iii',\n",
       " '_oh',\n",
       " '_pythonstartup',\n",
       " 'atexit',\n",
       " 'conf',\n",
       " 'exit',\n",
       " 'get_ipython',\n",
       " 'os',\n",
       " 'platform',\n",
       " 'py4j',\n",
       " 'pyspark',\n",
       " 'quit',\n",
       " 'sc',\n",
       " 'spark',\n",
       " 'sql',\n",
       " 'sqlContext',\n",
       " 'sqlCtx',\n",
       " 'warnings']"
      ]
     },
     "execution_count": 2,
     "metadata": {},
     "output_type": "execute_result"
    }
   ],
   "source": [
    "dir()"
   ]
  },
  {
   "cell_type": "code",
   "execution_count": 205,
   "metadata": {
    "collapsed": true
   },
   "outputs": [],
   "source": [
    "import time                                                \n",
    "import re\n",
    "import numpy as np"
   ]
  },
  {
   "cell_type": "code",
   "execution_count": 65,
   "metadata": {
    "collapsed": true
   },
   "outputs": [],
   "source": [
    "def timeit(method):\n",
    "\n",
    "    def timed(*args, **kw):\n",
    "        ts = time.time()\n",
    "        result = method(*args, **kw)\n",
    "        te = time.time()\n",
    "\n",
    "        print('%r (%r, %r) %2.2f sec' % \\\n",
    "              (method.__name__, args, kw, te-ts))\n",
    "        return result\n",
    "\n",
    "    return timed"
   ]
  },
  {
   "cell_type": "code",
   "execution_count": 234,
   "metadata": {
    "collapsed": true
   },
   "outputs": [],
   "source": [
    "train_rdd = sc.textFile('gs://lbanor/pyspark/train_query*.gz')"
   ]
  },
  {
   "cell_type": "code",
   "execution_count": 235,
   "metadata": {},
   "outputs": [
    {
     "data": {
      "text/plain": [
       "['fv,sku,score',\n",
       " '3383270414872112082,MO578SHF77RTI,0.5',\n",
       " '7143168022217708588,DA923SHF54UJP,0.5']"
      ]
     },
     "execution_count": 235,
     "metadata": {},
     "output_type": "execute_result"
    }
   ],
   "source": [
    "train_rdd.take(3)"
   ]
  },
  {
   "cell_type": "code",
   "execution_count": 60,
   "metadata": {
    "collapsed": true
   },
   "outputs": [],
   "source": [
    "valid_rdd = sc.textFile('gs://lbanor/pyspark/validation_query*.gz')"
   ]
  },
  {
   "cell_type": "code",
   "execution_count": 139,
   "metadata": {
    "collapsed": true
   },
   "outputs": [],
   "source": [
    "test_rdd = sc.textFile('gs://lbanor/pyspark/test_query*.gz')"
   ]
  },
  {
   "cell_type": "code",
   "execution_count": null,
   "metadata": {
    "collapsed": true
   },
   "outputs": [],
   "source": []
  },
  {
   "cell_type": "code",
   "execution_count": 14,
   "metadata": {
    "collapsed": true
   },
   "outputs": [],
   "source": [
    "train_df = spark.read.csv('gs://lbanor/pyspark/train_query*.gz', header=True)"
   ]
  },
  {
   "cell_type": "code",
   "execution_count": 150,
   "metadata": {
    "collapsed": true
   },
   "outputs": [],
   "source": [
    "valid_df = spark.read.csv('gs://lbanor/pyspark/validation_query*.gz', header=True)"
   ]
  },
  {
   "cell_type": "code",
   "execution_count": 152,
   "metadata": {
    "collapsed": true
   },
   "outputs": [],
   "source": [
    "valid_df.createGlobalTempView('valid_data')"
   ]
  },
  {
   "cell_type": "code",
   "execution_count": 151,
   "metadata": {
    "collapsed": true
   },
   "outputs": [],
   "source": [
    "test_df = spark.read.csv('gs://lbanor/pyspark/test_query*.gz', header=True)"
   ]
  },
  {
   "cell_type": "code",
   "execution_count": 154,
   "metadata": {},
   "outputs": [
    {
     "ename": "AnalysisException",
     "evalue": "\"Temporary table 'test_data' already exists;\"",
     "output_type": "error",
     "traceback": [
      "\u001b[0;31m---------------------------------------------------------------------------\u001b[0m",
      "\u001b[0;31mPy4JJavaError\u001b[0m                             Traceback (most recent call last)",
      "\u001b[0;32m/usr/lib/spark/python/pyspark/sql/utils.py\u001b[0m in \u001b[0;36mdeco\u001b[0;34m(*a, **kw)\u001b[0m\n\u001b[1;32m     62\u001b[0m         \u001b[0;32mtry\u001b[0m\u001b[0;34m:\u001b[0m\u001b[0;34m\u001b[0m\u001b[0m\n\u001b[0;32m---> 63\u001b[0;31m             \u001b[0;32mreturn\u001b[0m \u001b[0mf\u001b[0m\u001b[0;34m(\u001b[0m\u001b[0;34m*\u001b[0m\u001b[0ma\u001b[0m\u001b[0;34m,\u001b[0m \u001b[0;34m**\u001b[0m\u001b[0mkw\u001b[0m\u001b[0;34m)\u001b[0m\u001b[0;34m\u001b[0m\u001b[0m\n\u001b[0m\u001b[1;32m     64\u001b[0m         \u001b[0;32mexcept\u001b[0m \u001b[0mpy4j\u001b[0m\u001b[0;34m.\u001b[0m\u001b[0mprotocol\u001b[0m\u001b[0;34m.\u001b[0m\u001b[0mPy4JJavaError\u001b[0m \u001b[0;32mas\u001b[0m \u001b[0me\u001b[0m\u001b[0;34m:\u001b[0m\u001b[0;34m\u001b[0m\u001b[0m\n",
      "\u001b[0;32m/usr/lib/spark/python/lib/py4j-0.10.4-src.zip/py4j/protocol.py\u001b[0m in \u001b[0;36mget_return_value\u001b[0;34m(answer, gateway_client, target_id, name)\u001b[0m\n\u001b[1;32m    318\u001b[0m                     \u001b[0;34m\"An error occurred while calling {0}{1}{2}.\\n\"\u001b[0m\u001b[0;34m.\u001b[0m\u001b[0;34m\u001b[0m\u001b[0m\n\u001b[0;32m--> 319\u001b[0;31m                     format(target_id, \".\", name), value)\n\u001b[0m\u001b[1;32m    320\u001b[0m             \u001b[0;32melse\u001b[0m\u001b[0;34m:\u001b[0m\u001b[0;34m\u001b[0m\u001b[0m\n",
      "\u001b[0;31mPy4JJavaError\u001b[0m: An error occurred while calling o2634.createGlobalTempView.\n: org.apache.spark.sql.catalyst.analysis.TempTableAlreadyExistsException: Temporary table 'test_data' already exists;\n\tat org.apache.spark.sql.catalyst.catalog.GlobalTempViewManager.create(GlobalTempViewManager.scala:61)\n\tat org.apache.spark.sql.catalyst.catalog.SessionCatalog.createGlobalTempView(SessionCatalog.scala:484)\n\tat org.apache.spark.sql.execution.command.CreateViewCommand.run(views.scala:148)\n\tat org.apache.spark.sql.execution.command.ExecutedCommandExec.sideEffectResult$lzycompute(commands.scala:58)\n\tat org.apache.spark.sql.execution.command.ExecutedCommandExec.sideEffectResult(commands.scala:56)\n\tat org.apache.spark.sql.execution.command.ExecutedCommandExec.executeCollect(commands.scala:67)\n\tat org.apache.spark.sql.Dataset.<init>(Dataset.scala:182)\n\tat org.apache.spark.sql.Dataset$.ofRows(Dataset.scala:67)\n\tat org.apache.spark.sql.Dataset.org$apache$spark$sql$Dataset$$withPlan(Dataset.scala:2872)\n\tat org.apache.spark.sql.Dataset.createGlobalTempView(Dataset.scala:2658)\n\tat sun.reflect.NativeMethodAccessorImpl.invoke0(Native Method)\n\tat sun.reflect.NativeMethodAccessorImpl.invoke(NativeMethodAccessorImpl.java:62)\n\tat sun.reflect.DelegatingMethodAccessorImpl.invoke(DelegatingMethodAccessorImpl.java:43)\n\tat java.lang.reflect.Method.invoke(Method.java:498)\n\tat py4j.reflection.MethodInvoker.invoke(MethodInvoker.java:244)\n\tat py4j.reflection.ReflectionEngine.invoke(ReflectionEngine.java:357)\n\tat py4j.Gateway.invoke(Gateway.java:280)\n\tat py4j.commands.AbstractCommand.invokeMethod(AbstractCommand.java:132)\n\tat py4j.commands.CallCommand.execute(CallCommand.java:79)\n\tat py4j.GatewayConnection.run(GatewayConnection.java:214)\n\tat java.lang.Thread.run(Thread.java:748)\n",
      "\nDuring handling of the above exception, another exception occurred:\n",
      "\u001b[0;31mAnalysisException\u001b[0m                         Traceback (most recent call last)",
      "\u001b[0;32m<ipython-input-154-5c73e0de631b>\u001b[0m in \u001b[0;36m<module>\u001b[0;34m()\u001b[0m\n\u001b[0;32m----> 1\u001b[0;31m \u001b[0mtest_df\u001b[0m\u001b[0;34m.\u001b[0m\u001b[0mcreateGlobalTempView\u001b[0m\u001b[0;34m(\u001b[0m\u001b[0;34m'test_data'\u001b[0m\u001b[0;34m)\u001b[0m\u001b[0;34m\u001b[0m\u001b[0m\n\u001b[0m",
      "\u001b[0;32m/usr/lib/spark/python/pyspark/sql/dataframe.py\u001b[0m in \u001b[0;36mcreateGlobalTempView\u001b[0;34m(self, name)\u001b[0m\n\u001b[1;32m    190\u001b[0m \u001b[0;34m\u001b[0m\u001b[0m\n\u001b[1;32m    191\u001b[0m         \"\"\"\n\u001b[0;32m--> 192\u001b[0;31m         \u001b[0mself\u001b[0m\u001b[0;34m.\u001b[0m\u001b[0m_jdf\u001b[0m\u001b[0;34m.\u001b[0m\u001b[0mcreateGlobalTempView\u001b[0m\u001b[0;34m(\u001b[0m\u001b[0mname\u001b[0m\u001b[0;34m)\u001b[0m\u001b[0;34m\u001b[0m\u001b[0m\n\u001b[0m\u001b[1;32m    193\u001b[0m \u001b[0;34m\u001b[0m\u001b[0m\n\u001b[1;32m    194\u001b[0m     \u001b[0;34m@\u001b[0m\u001b[0msince\u001b[0m\u001b[0;34m(\u001b[0m\u001b[0;36m2.2\u001b[0m\u001b[0;34m)\u001b[0m\u001b[0;34m\u001b[0m\u001b[0m\n",
      "\u001b[0;32m/usr/lib/spark/python/lib/py4j-0.10.4-src.zip/py4j/java_gateway.py\u001b[0m in \u001b[0;36m__call__\u001b[0;34m(self, *args)\u001b[0m\n\u001b[1;32m   1131\u001b[0m         \u001b[0manswer\u001b[0m \u001b[0;34m=\u001b[0m \u001b[0mself\u001b[0m\u001b[0;34m.\u001b[0m\u001b[0mgateway_client\u001b[0m\u001b[0;34m.\u001b[0m\u001b[0msend_command\u001b[0m\u001b[0;34m(\u001b[0m\u001b[0mcommand\u001b[0m\u001b[0;34m)\u001b[0m\u001b[0;34m\u001b[0m\u001b[0m\n\u001b[1;32m   1132\u001b[0m         return_value = get_return_value(\n\u001b[0;32m-> 1133\u001b[0;31m             answer, self.gateway_client, self.target_id, self.name)\n\u001b[0m\u001b[1;32m   1134\u001b[0m \u001b[0;34m\u001b[0m\u001b[0m\n\u001b[1;32m   1135\u001b[0m         \u001b[0;32mfor\u001b[0m \u001b[0mtemp_arg\u001b[0m \u001b[0;32min\u001b[0m \u001b[0mtemp_args\u001b[0m\u001b[0;34m:\u001b[0m\u001b[0;34m\u001b[0m\u001b[0m\n",
      "\u001b[0;32m/usr/lib/spark/python/pyspark/sql/utils.py\u001b[0m in \u001b[0;36mdeco\u001b[0;34m(*a, **kw)\u001b[0m\n\u001b[1;32m     69\u001b[0m                 \u001b[0;32mraise\u001b[0m \u001b[0mAnalysisException\u001b[0m\u001b[0;34m(\u001b[0m\u001b[0ms\u001b[0m\u001b[0;34m.\u001b[0m\u001b[0msplit\u001b[0m\u001b[0;34m(\u001b[0m\u001b[0;34m': '\u001b[0m\u001b[0;34m,\u001b[0m \u001b[0;36m1\u001b[0m\u001b[0;34m)\u001b[0m\u001b[0;34m[\u001b[0m\u001b[0;36m1\u001b[0m\u001b[0;34m]\u001b[0m\u001b[0;34m,\u001b[0m \u001b[0mstackTrace\u001b[0m\u001b[0;34m)\u001b[0m\u001b[0;34m\u001b[0m\u001b[0m\n\u001b[1;32m     70\u001b[0m             \u001b[0;32mif\u001b[0m \u001b[0ms\u001b[0m\u001b[0;34m.\u001b[0m\u001b[0mstartswith\u001b[0m\u001b[0;34m(\u001b[0m\u001b[0;34m'org.apache.spark.sql.catalyst.analysis'\u001b[0m\u001b[0;34m)\u001b[0m\u001b[0;34m:\u001b[0m\u001b[0;34m\u001b[0m\u001b[0m\n\u001b[0;32m---> 71\u001b[0;31m                 \u001b[0;32mraise\u001b[0m \u001b[0mAnalysisException\u001b[0m\u001b[0;34m(\u001b[0m\u001b[0ms\u001b[0m\u001b[0;34m.\u001b[0m\u001b[0msplit\u001b[0m\u001b[0;34m(\u001b[0m\u001b[0;34m': '\u001b[0m\u001b[0;34m,\u001b[0m \u001b[0;36m1\u001b[0m\u001b[0;34m)\u001b[0m\u001b[0;34m[\u001b[0m\u001b[0;36m1\u001b[0m\u001b[0;34m]\u001b[0m\u001b[0;34m,\u001b[0m \u001b[0mstackTrace\u001b[0m\u001b[0;34m)\u001b[0m\u001b[0;34m\u001b[0m\u001b[0m\n\u001b[0m\u001b[1;32m     72\u001b[0m             \u001b[0;32mif\u001b[0m \u001b[0ms\u001b[0m\u001b[0;34m.\u001b[0m\u001b[0mstartswith\u001b[0m\u001b[0;34m(\u001b[0m\u001b[0;34m'org.apache.spark.sql.catalyst.parser.ParseException: '\u001b[0m\u001b[0;34m)\u001b[0m\u001b[0;34m:\u001b[0m\u001b[0;34m\u001b[0m\u001b[0m\n\u001b[1;32m     73\u001b[0m                 \u001b[0;32mraise\u001b[0m \u001b[0mParseException\u001b[0m\u001b[0;34m(\u001b[0m\u001b[0ms\u001b[0m\u001b[0;34m.\u001b[0m\u001b[0msplit\u001b[0m\u001b[0;34m(\u001b[0m\u001b[0;34m': '\u001b[0m\u001b[0;34m,\u001b[0m \u001b[0;36m1\u001b[0m\u001b[0;34m)\u001b[0m\u001b[0;34m[\u001b[0m\u001b[0;36m1\u001b[0m\u001b[0;34m]\u001b[0m\u001b[0;34m,\u001b[0m \u001b[0mstackTrace\u001b[0m\u001b[0;34m)\u001b[0m\u001b[0;34m\u001b[0m\u001b[0m\n",
      "\u001b[0;31mAnalysisException\u001b[0m: \"Temporary table 'test_data' already exists;\""
     ]
    }
   ],
   "source": [
    "test_df.createGlobalTempView('test_data')"
   ]
  },
  {
   "cell_type": "code",
   "execution_count": 25,
   "metadata": {
    "collapsed": true
   },
   "outputs": [],
   "source": [
    "@timeit\n",
    "def create_global(df, name):\n",
    "    df.createGlobalTempView(name)"
   ]
  },
  {
   "cell_type": "code",
   "execution_count": 24,
   "metadata": {},
   "outputs": [
    {
     "name": "stdout",
     "output_type": "stream",
     "text": [
      "'create_global' ((DataFrame[fv: string, sku: string, score: string], 'test4'), {}) 2.01 sec\n"
     ]
    }
   ],
   "source": [
    "create_global(train_df, 'test4')"
   ]
  },
  {
   "cell_type": "code",
   "execution_count": 77,
   "metadata": {
    "collapsed": true
   },
   "outputs": [],
   "source": [
    "d2 = train_rdd.map(lambda x: x.split(',')).map(lambda x: re.sub('-\\d+$', '', x[1])).distinct()"
   ]
  },
  {
   "cell_type": "code",
   "execution_count": 78,
   "metadata": {
    "collapsed": true
   },
   "outputs": [],
   "source": [
    "d2 = d2.zipWithIndex()"
   ]
  },
  {
   "cell_type": "code",
   "execution_count": 140,
   "metadata": {},
   "outputs": [
    {
     "data": {
      "text/plain": [
       "[('FI911SHF30RVT', 0), ('BO185SHF82JEJ', 1), ('IS227SHF92EKT', 2)]"
      ]
     },
     "execution_count": 140,
     "metadata": {},
     "output_type": "execute_result"
    }
   ],
   "source": []
  },
  {
   "cell_type": "code",
   "execution_count": 92,
   "metadata": {
    "collapsed": true
   },
   "outputs": [],
   "source": [
    "final_train_rdd = train_rdd.join(d2)"
   ]
  },
  {
   "cell_type": "code",
   "execution_count": 93,
   "metadata": {},
   "outputs": [
    {
     "data": {
      "text/plain": [
       "[]"
      ]
     },
     "execution_count": 93,
     "metadata": {},
     "output_type": "execute_result"
    }
   ],
   "source": [
    "final_train_rdd.take(3)"
   ]
  },
  {
   "cell_type": "code",
   "execution_count": 87,
   "metadata": {
    "collapsed": true
   },
   "outputs": [],
   "source": [
    "#d = spark.sql(\"SELECT regexp_replace(sku, '-\\d+$', ''), row_number() over(ORDER BY 1) FROM global_temp.test4 group by sku\")\n",
    "d = spark.sql(\"SELECT regexp_replace(sku, '-\\d+$', ''), sum(1) over(ROWS BETWEEN UNBOUNDED PRECEDING AND CURRENT ROW) FROM global_temp.test4 group by sku\")"
   ]
  },
  {
   "cell_type": "code",
   "execution_count": 112,
   "metadata": {
    "collapsed": true
   },
   "outputs": [],
   "source": [
    "query = \"\"\"\n",
    "SELECT\n",
    "a.fv fv,\n",
    "b.idx idx,\n",
    "a.score score\n",
    "FROM(\n",
    "SELECT\n",
    " *\n",
    "FROM  global_temp.test4\n",
    ") a\n",
    "JOIN(\n",
    "SELECT\n",
    "  regexp_replace(sku, '-\\d+$', '') sku,\n",
    "  sum(1) over(ROWS BETWEEN UNBOUNDED PRECEDING AND CURRENT ROW) idx\n",
    "FROM global_temp.test4\n",
    "GROUP BY sku\n",
    ") b\n",
    "ON a.sku = b.sku\n",
    "\"\"\""
   ]
  },
  {
   "cell_type": "code",
   "execution_count": 136,
   "metadata": {
    "collapsed": true
   },
   "outputs": [],
   "source": [
    "query = \"\"\"\n",
    "SELECT\n",
    "b.idx fv,\n",
    "c.idx sku,\n",
    "a.score score\n",
    "FROM(\n",
    "SELECT\n",
    " *\n",
    "FROM  global_temp.%s\n",
    ") a\n",
    "JOIN(\n",
    "SELECT\n",
    "  fv,\n",
    "  idx\n",
    "FROM global_temp.users_idx\n",
    ") b\n",
    "ON a.fv = b.fv\n",
    "JOIN(\n",
    "SELECT\n",
    "sku,\n",
    "idx\n",
    "FROM global_temp.sku_idx\n",
    ") c\n",
    "ON c.sku = a.sku\n",
    "\"\"\""
   ]
  },
  {
   "cell_type": "code",
   "execution_count": 120,
   "metadata": {
    "collapsed": true
   },
   "outputs": [],
   "source": [
    "users_query = \\\n",
    "\"\"\"\n",
    "SELECT\n",
    "fv,\n",
    "sum(1) over(ROWS BETWEEN UNBOUNDED PRECEDING AND CURRENT ROW) idx\n",
    "FROM global_temp.test4 group by fv\n",
    "\"\"\""
   ]
  },
  {
   "cell_type": "code",
   "execution_count": 122,
   "metadata": {
    "collapsed": true
   },
   "outputs": [],
   "source": [
    "users_df = spark.sql(users_query)\n",
    "users_df.createGlobalTempView('users_idx')"
   ]
  },
  {
   "cell_type": "code",
   "execution_count": 146,
   "metadata": {
    "collapsed": true
   },
   "outputs": [],
   "source": [
    "users_df.toPandas?"
   ]
  },
  {
   "cell_type": "code",
   "execution_count": 125,
   "metadata": {
    "collapsed": true
   },
   "outputs": [],
   "source": [
    "sku_query = \\\n",
    "\"\"\"\n",
    "SELECT\n",
    "sku,\n",
    "sum(1) over(ROWS BETWEEN UNBOUNDED PRECEDING AND CURRENT ROW) idx\n",
    "FROM global_temp.test4 group by sku\n",
    "\"\"\""
   ]
  },
  {
   "cell_type": "code",
   "execution_count": 126,
   "metadata": {
    "collapsed": true
   },
   "outputs": [],
   "source": [
    "sku_df = spark.sql(sku_query)\n",
    "sku_df.createGlobalTempView('sku_idx')"
   ]
  },
  {
   "cell_type": "code",
   "execution_count": 134,
   "metadata": {
    "collapsed": true
   },
   "outputs": [],
   "source": [
    "train_data = spark.sql(query)"
   ]
  },
  {
   "cell_type": "code",
   "execution_count": 149,
   "metadata": {},
   "outputs": [
    {
     "data": {
      "text/plain": [
       "[Row(fv=105748, sku=1511), Row(fv=222145, sku=1662), Row(fv=264737, sku=1662)]"
      ]
     },
     "execution_count": 149,
     "metadata": {},
     "output_type": "execute_result"
    }
   ],
   "source": [
    "train_data.select('fv', 'sku').take(3)"
   ]
  },
  {
   "cell_type": "code",
   "execution_count": 156,
   "metadata": {
    "collapsed": true
   },
   "outputs": [],
   "source": [
    "valid_data = spark.sql(query %('valid_data'))"
   ]
  },
  {
   "cell_type": "code",
   "execution_count": 157,
   "metadata": {},
   "outputs": [
    {
     "data": {
      "text/plain": [
       "[Row(fv=646783, sku=86158, score='1'),\n",
       " Row(fv=943352, sku=86309, score='1'),\n",
       " Row(fv=679390, sku=86056, score='0.5')]"
      ]
     },
     "execution_count": 157,
     "metadata": {},
     "output_type": "execute_result"
    }
   ],
   "source": [
    "valid_data.take(3)"
   ]
  },
  {
   "cell_type": "code",
   "execution_count": 158,
   "metadata": {
    "collapsed": true
   },
   "outputs": [],
   "source": [
    "test_data = spark.sql(query %('test_data'))"
   ]
  },
  {
   "cell_type": "code",
   "execution_count": 164,
   "metadata": {},
   "outputs": [
    {
     "ename": "TypeError",
     "evalue": "'RDD' object is not callable",
     "output_type": "error",
     "traceback": [
      "\u001b[0;31m---------------------------------------------------------------------------\u001b[0m",
      "\u001b[0;31mTypeError\u001b[0m                                 Traceback (most recent call last)",
      "\u001b[0;32m<ipython-input-164-2b020f49f58c>\u001b[0m in \u001b[0;36m<module>\u001b[0;34m()\u001b[0m\n\u001b[0;32m----> 1\u001b[0;31m \u001b[0mtest_data\u001b[0m\u001b[0;34m.\u001b[0m\u001b[0mrdd\u001b[0m\u001b[0;34m(\u001b[0m\u001b[0;34m)\u001b[0m\u001b[0;34m\u001b[0m\u001b[0m\n\u001b[0m",
      "\u001b[0;31mTypeError\u001b[0m: 'RDD' object is not callable"
     ]
    }
   ],
   "source": [
    "test_data.rdd"
   ]
  },
  {
   "cell_type": "code",
   "execution_count": 79,
   "metadata": {},
   "outputs": [
    {
     "data": {
      "text/plain": [
       "[('FI911SHF30RVT', 0), ('BO185SHF82JEJ', 1), ('IS227SHF92EKT', 2)]"
      ]
     },
     "execution_count": 79,
     "metadata": {},
     "output_type": "execute_result"
    }
   ],
   "source": [
    "d2.take(3)"
   ]
  },
  {
   "cell_type": "code",
   "execution_count": 89,
   "metadata": {},
   "outputs": [
    {
     "name": "stdout",
     "output_type": "stream",
     "text": [
      "8.21 s ± 350 ms per loop (mean ± std. dev. of 7 runs, 1 loop each)\n"
     ]
    }
   ],
   "source": [
    "%timeit d.take(3)"
   ]
  },
  {
   "cell_type": "code",
   "execution_count": 52,
   "metadata": {},
   "outputs": [
    {
     "name": "stdout",
     "output_type": "stream",
     "text": [
      "68.6 ms ± 1.62 ms per loop (mean ± std. dev. of 7 runs, 10 loops each)\n"
     ]
    }
   ],
   "source": [
    "%timeit d2.take(3)"
   ]
  },
  {
   "cell_type": "code",
   "execution_count": 5,
   "metadata": {},
   "outputs": [
    {
     "data": {
      "text/plain": [
       "[Row(_c0='fv', _c1='sku', _c2='score'),\n",
       " Row(_c0='3383270414872112082', _c1='MO578SHF77RTI', _c2='0.5'),\n",
       " Row(_c0='7143168022217708588', _c1='DA923SHF54UJP', _c2='0.5')]"
      ]
     },
     "execution_count": 5,
     "metadata": {},
     "output_type": "execute_result"
    }
   ],
   "source": [
    "train_df.take(3)"
   ]
  },
  {
   "cell_type": "code",
   "execution_count": 59,
   "metadata": {},
   "outputs": [
    {
     "data": {
      "text/plain": [
       "['fv,sku,score',\n",
       " '3383270414872112082,MO578SHF77RTI,0.5',\n",
       " '7143168022217708588,DA923SHF54UJP,0.5',\n",
       " '8844960186636261737,LU621ACM67NYU,0.5',\n",
       " '4982876416707808713,NE184SCM38ZOR,1']"
      ]
     },
     "execution_count": 59,
     "metadata": {},
     "output_type": "execute_result"
    }
   ],
   "source": [
    "train_rdd.take(5)"
   ]
  },
  {
   "cell_type": "code",
   "execution_count": 61,
   "metadata": {},
   "outputs": [
    {
     "data": {
      "text/plain": [
       "['fv,sku,score',\n",
       " '8904296658784430607,BE139SHF93GPE,0.5',\n",
       " '8387443859206657573,FA258SHF63HTC,3',\n",
       " '3603778167605721116,HD124SRM40WZB,4']"
      ]
     },
     "execution_count": 61,
     "metadata": {},
     "output_type": "execute_result"
    }
   ],
   "source": [
    "valid_rdd.take(4)"
   ]
  },
  {
   "cell_type": "code",
   "execution_count": 202,
   "metadata": {
    "collapsed": true
   },
   "outputs": [],
   "source": [
    "cocu = sc.textFile('gs://lbanor/1_0_00000000000561840423.gz')"
   ]
  },
  {
   "cell_type": "code",
   "execution_count": 203,
   "metadata": {},
   "outputs": [
    {
     "data": {
      "text/plain": [
       "139201"
      ]
     },
     "execution_count": 203,
     "metadata": {},
     "output_type": "execute_result"
    }
   ],
   "source": [
    "cocu.count()"
   ]
  },
  {
   "cell_type": "code",
   "execution_count": 236,
   "metadata": {},
   "outputs": [
    {
     "data": {
      "text/plain": [
       "['{\"event\":{\"schema_version\":1,\"user\":{\"location\":{}},\"identifiers\":{\"bid\":{\"value\":\"7645041da17c1b1ed4e86a20714e9abf\",\"type\":\"bid\"},\"djUCID\":{\"value\":\"d4e22d11a6905a8c\",\"type\":\"djUCID\"}},\"device\":{\"client\":\"Mozilla/5.0 (Linux; Android 4.4.2; LG-D855 Build/KVT49L) AppleWebKit/537.36 (KHTML, like Gecko) Chrome/59.0.3071.125 Mobile Safari/537.36\",\"os\":\"Linux armv7l\",\"origin\":\"web\"},\"source\":{\"tracker\":\"fish\",\"url\":\"m.dafiti.com.br/?placeholder\\\\u0026gclid=CMuSis3z0tUCFRMIkQodRP8GfA\",\"url_referrer\":\"www.google.com.br/\"},\"created_at\":1502582400031,\"local_timestamp\":1502582399182,\"type\":\"homepageview\",\"details\":{}},\"created_at\":1502582400031}',\n",
       " '{\"event\":{\"schema_version\":1,\"user\":{\"location\":{}},\"identifiers\":{\"bid\":{\"value\":\"dcb7b9b540188da2ef245e15785d2ecb\",\"type\":\"bid\"},\"djUCID\":{\"value\":\"25e35a54c8cace51\",\"type\":\"djUCID\"}},\"device\":{\"client\":\"Mozilla/5.0 (Linux; Android 4.4.4; SM-G530BT Build/KTU84P) AppleWebKit/537.36 (KHTML, like Gecko) Chrome/59.0.3071.125 Mobile Safari/537.36\",\"os\":\"Linux armv7l\",\"origin\":\"web\"},\"source\":{\"tracker\":\"fish\",\"url\":\"m.dafiti.com.br/Moletom-Enfim-Estampado-Azul-2923423.html\",\"url_referrer\":\"m.dafiti.com.br/catalog/?q=Enfim\\\\u0026wtqs=1\\\\u0026dft_capi=1\\\\u0026page=7\"},\"created_at\":1502582400021,\"local_timestamp\":1502589588052,\"type\":\"productview\",\"details\":{\"product\":{\"id\":\"\",\"title\":\"Moletom Enfim Estampado Azul\",\"brand\":{\"name\":\"Enfim\"},\"price\":{\"current\":84.99},\"group_id\":\"MA042APM76IPJ\",\"skus\":[\"MA042APM76IPJ\"],\"categories\":[[{\"name\":\"masculino\",\"slug\":\"masculino\"},{\"name\":\"roupas masculinas\",\"slug\":\"roupas-masculinas\"},{\"name\":\"moletons\",\"slug\":\"moletons\"},{\"name\":\"moletom aberto\",\"slug\":\"moletom-aberto\"}]],\"main_category_path\":[{\"name\":\"masculino\",\"slug\":\"masculino\"},{\"name\":\"roupas masculinas\",\"slug\":\"roupas-masculinas\"},{\"name\":\"moletons\",\"slug\":\"moletons\"},{\"name\":\"moletom aberto\",\"slug\":\"moletom-aberto\"}],\"url\":\"m.dafiti.com.br/Moletom-Enfim-Estampado-Azul-2923423.html\",\"images\":[\"https://dafitistatic-a.akamaihd.net/p/Enfim-Moletom-Enfim-Estampado-Azul-5611-3243292-1-zoom.jpg\"],\"colors\":[\"Azul\"]}}},\"created_at\":1502582400021}',\n",
       " '{\"event\":{\"schema_version\":1,\"user\":{\"location\":{}},\"identifiers\":{\"bid\":{\"value\":\"536653f3f7915f8e3d14f16ab4324b2a\",\"type\":\"bid\"},\"djUCID\":{\"value\":\"2feec3ba06c3a23b\",\"type\":\"djUCID\"}},\"device\":{\"client\":\"Mozilla/5.0 (Windows NT 6.1; Win64; x64) AppleWebKit/537.36 (KHTML, like Gecko) Chrome/60.0.3112.90 Safari/537.36\",\"os\":\"Win32\",\"origin\":\"web\"},\"source\":{\"tracker\":\"fish\",\"url\":\"www.dafiti.com.br/Regata-Estonada-Skull-Lab-Caveira--Grafite-2119409.html\",\"url_referrer\":\"www.dafiti.com.br/Regata-Estonada-Skull-Lab-Caveira-Grafite-2119394.html\"},\"created_at\":1502582400011,\"local_timestamp\":1502582394517,\"type\":\"productview\",\"details\":{\"product\":{\"id\":\"\",\"title\":\"Regata Estonada Skull Lab Caveira Grafite\",\"brand\":{\"name\":\"Skull Lab\"},\"price\":{\"current\":59},\"group_id\":\"SK014APF90PFT\",\"skus\":[\"SK014APF90PFT\"],\"categories\":[[{\"name\":\"feminino\",\"slug\":\"feminino\"},{\"name\":\"roupas femininas\",\"slug\":\"roupas-femininas\"},{\"name\":\"blusas\",\"slug\":\"blusas\"},{\"name\":\"blusas básicas\",\"slug\":\"blusas-basicas\"}]],\"main_category_path\":[{\"name\":\"feminino\",\"slug\":\"feminino\"},{\"name\":\"roupas femininas\",\"slug\":\"roupas-femininas\"},{\"name\":\"blusas\",\"slug\":\"blusas\"},{\"name\":\"blusas básicas\",\"slug\":\"blusas-basicas\"}],\"url\":\"www.dafiti.com.br/Regata-Estonada-Skull-Lab-Caveira--Grafite-2119409.html\",\"images\":[\"https://dafitistatic-a.akamaihd.net/p/Skull-Lab-Regata-Estonada-Skull-Lab-Caveira--Grafite-6775-9049112-1-zoom.jpg\"],\"colors\":[\"Grafite\"]}}},\"created_at\":1502582400011}',\n",
       " '{\"event\":{\"schema_version\":1,\"user\":{\"location\":{}},\"device\":{\"origin\":\"web\"},\"source\":{\"tracker\":\"hawk\",\"url\":\"/\",\"url_referrer\":\"/\"},\"created_at\":1502582400127,\"type\":\"search_response\",\"details\":{\"generation_ms\":69,\"request\":{\"category_dept\":1,\"facet_count\":1000,\"facets\":[\"brand\",\"price\",\"size\",\"gender\",\"color\",\"categories_slugs\",\"categories_ids\",\"owner\",\"category\"],\"fields\":\"*\",\"filters\":{\"brand.slug\":[\"calvin-klein-kids\"],\"categories_ids\":[\"257\"]},\"gs\":3,\"rq\":5,\"size\":48,\"sort\":\"relevance\",\"top_product_ids\":[\"\"]},\"response\":{\"count\":189,\"id\":\"d7c104cab610e7edf07290428c4db4e6ec49fcc1\",\"items\":[\"\\\\\"CA947APM37XCS\\\\\"\",\"\\\\\"CA947APM24OVZ\\\\\"\",\"\\\\\"CA947APM29FXA\\\\\"\",\"\\\\\"CA947APM71XMY\\\\\"\",\"\\\\\"CA947APM50FWF\\\\\"\",\"\\\\\"CA947APM95OLO\\\\\"\",\"\\\\\"CA947APM18FTP\\\\\"\",\"\\\\\"CA947APM05FUC\\\\\"\",\"\\\\\"CA947APM03FUE\\\\\"\",\"\\\\\"CA947APM94OLP\\\\\"\",\"\\\\\"CA947APM49FWG\\\\\"\",\"\\\\\"CA947APM34FWV\\\\\"\",\"\\\\\"CA947APM01OTA\\\\\"\",\"\\\\\"CA947APM57FVY\\\\\"\",\"\\\\\"CA947APM47FWI\\\\\"\",\"\\\\\"CA947APM09FTY\\\\\"\",\"\\\\\"CA947APG97DGW\\\\\"\",\"\\\\\"CA947APM32FWX\\\\\"\",\"\\\\\"CA947APM85XAW\\\\\"\",\"\\\\\"CA947APM03XHW\\\\\"\",\"\\\\\"CA947APM42XCN\\\\\"\",\"\\\\\"CA947APM90XIJ\\\\\"\",\"\\\\\"CA947APM96OLN\\\\\"\",\"\\\\\"CA947APM20FTN\\\\\"\",\"\\\\\"CA947APM87OXK\\\\\"\",\"\\\\\"CA947APM05OLE\\\\\"\",\"\\\\\"CA947APM60FVV\\\\\"\",\"\\\\\"CA947APM44FWL\\\\\"\",\"\\\\\"CA947APM56FVZ\\\\\"\",\"\\\\\"CA947APM59FVW\\\\\"\"]}}},\"created_at\":1502582400127}',\n",
       " '{\"event\":{\"schema_version\":1,\"user\":{\"location\":{},\"gender\":\"female\"},\"identifiers\":{\"app_id\":{\"value\":\"1D9D0285-41E3-4176-8776-6B01FBC30303\",\"type\":\"app_id\"},\"user_id\":{\"value\":\"4119466\",\"type\":\"user_id\"}},\"device\":{\"os\":\"ios\",\"os_version\":\"10.3.2\",\"origin\":\"mobile\"},\"source\":{\"tracker\":\"adjust\"},\"created_at\":1502582400070,\"local_timestamp\":1502582368000,\"type\":\"productview\",\"details\":{\"product\":{\"id\":\"\",\"group_id\":\"SA232SHF52RZN\",\"skus\":[\"SA232SHF52RZN\"]}}},\"created_at\":1502582400070}',\n",
       " '{\"event\":{\"schema_version\":1,\"user\":{\"location\":{}},\"identifiers\":{\"bid\":{\"value\":\"7bdf9b75984500d8ce37a37888cb65b5\",\"type\":\"bid\"}},\"device\":{\"client\":\"Mozilla/5.0 (iPad; CPU OS 10_3_2 like Mac OS X) AppleWebKit/603.2.4 (KHTML, like Gecko) Version/10.0 Mobile/14F89 Safari/602.1\",\"os\":\"iPad\",\"origin\":\"web\"},\"source\":{\"tracker\":\"fish\",\"url\":\"t.dafiti.com.br/special-price/\",\"url_referrer\":\"/\"},\"created_at\":1502582400085,\"local_timestamp\":1502582082860,\"type\":\"search\",\"details\":{\"query_type\":\"catalog\",\"brand\":{}}},\"created_at\":1502582400085}',\n",
       " '{\"event\":{\"schema_version\":1,\"user\":{\"location\":{}},\"identifiers\":{\"bid\":{\"value\":\"2f9e29810bf19e880990f3927d81aa7a\",\"type\":\"bid\"}},\"device\":{\"client\":\"Mozilla/5.0 (iPhone; CPU iPhone OS 10_3_3 like Mac OS X) AppleWebKit/603.3.8 (KHTML, like Gecko) Version/10.0 Mobile/14G60 Safari/602.1\",\"os\":\"iPhone\",\"origin\":\"web\"},\"source\":{\"tracker\":\"fish\",\"url\":\"m.dafiti.com.br/roupas-femininas/blusas/colcci/?page=3\",\"url_referrer\":\"www.google.com.br/\"},\"created_at\":1502582400099,\"local_timestamp\":1502582398609,\"type\":\"search\",\"details\":{\"query_type\":\"catalog\",\"brand\":{\"name\":\"Colcci\"},\"categories\":[{\"name\":\"Feminino\",\"slug\":\"feminino\"},{\"name\":\"Roupas Femininas\",\"slug\":\"roupas-femininas\"},{\"name\":\"Blusas\",\"slug\":\"blusas\"}]}},\"created_at\":1502582400099}',\n",
       " '{\"event\":{\"schema_version\":1,\"user\":{\"location\":{},\"gender\":\"male\"},\"identifiers\":{\"app_id\":{\"value\":\"8BF4CABE-9B7D-464D-88E6-07C17711F472\",\"type\":\"app_id\"}},\"device\":{\"os\":\"ios\",\"os_version\":\"10.2\",\"origin\":\"mobile\"},\"source\":{\"tracker\":\"adjust\"},\"created_at\":1502582400186,\"local_timestamp\":1502582369000,\"type\":\"productview\",\"details\":{\"product\":{\"id\":\"\",\"group_id\":\"HU897APM59TVC\",\"skus\":[\"HU897APM59TVC\"]}}},\"created_at\":1502582400186}',\n",
       " '{\"event\":{\"schema_version\":1,\"user\":{\"location\":{}},\"identifiers\":{\"bid\":{\"value\":\"4140372781cb785337d078379dbf1d0e\",\"type\":\"bid\"},\"djUCID\":{\"value\":\"afb279ead147aecc\",\"type\":\"djUCID\"}},\"device\":{\"client\":\"Mozilla/5.0 (Windows NT 10.0; Win64; x64) AppleWebKit/537.36 (KHTML, like Gecko) Chrome/60.0.3112.90 Safari/537.36\",\"os\":\"Win32\",\"origin\":\"web\"},\"source\":{\"tracker\":\"fish\",\"url\":\"www.dafiti.com.br/Bolsa-Colcci-Grande-Preta-3174520.html\",\"url_referrer\":\"www.dafiti.com.br/Bolsa-Colcci-Media-Vinho-3174523.html\"},\"created_at\":1502582400219,\"local_timestamp\":1502582397287,\"type\":\"productview\",\"details\":{\"product\":{\"id\":\"\",\"title\":\"Bolsa Colcci Grande Preta\",\"brand\":{\"name\":\"Colcci\"},\"price\":{\"current\":199.9},\"group_id\":\"CO515ACF79QAY\",\"skus\":[\"CO515ACF79QAY\"],\"categories\":[[{\"name\":\"feminino\",\"slug\":\"feminino\"},{\"name\":\"bolsas e acessórios femininos\",\"slug\":\"bolsas-e-acessorios-femininos\"},{\"name\":\"bolsas\",\"slug\":\"bolsas\"},{\"name\":\"bolsa tiracolo e baú\",\"slug\":\"bolsa-tiracolo-e-bau\"}]],\"main_category_path\":[{\"name\":\"feminino\",\"slug\":\"feminino\"},{\"name\":\"bolsas e acessórios femininos\",\"slug\":\"bolsas-e-acessorios-femininos\"},{\"name\":\"bolsas\",\"slug\":\"bolsas\"},{\"name\":\"bolsa tiracolo e baú\",\"slug\":\"bolsa-tiracolo-e-bau\"}],\"url\":\"www.dafiti.com.br/Bolsa-Colcci-Grande-Preta-3174520.html\",\"images\":[\"https://dafitistatic-a.akamaihd.net/p/Colcci-Bolsa-Colcci-Grande-Preta-7835-0254713-1-zoom.jpg\"],\"colors\":[\"Preto\"]}}},\"created_at\":1502582400219}',\n",
       " '{\"event\":{\"schema_version\":1,\"user\":{\"location\":{}},\"identifiers\":{\"bid\":{\"value\":\"054f5ae5029c5a12b07d25f371a34cf9\",\"type\":\"bid\"},\"djUCID\":{\"value\":\"7b91c3cb7a383665\",\"type\":\"djUCID\"}},\"device\":{\"client\":\"Mozilla/5.0 (Linux; Android 6.0.1; Moto G Play Build/MPI24.241-15.3) AppleWebKit/537.36 (KHTML, like Gecko) Chrome/50.0.2661.89 Mobile Safari/537.36\",\"os\":\"Linux armv7l\",\"origin\":\"web\"},\"source\":{\"tracker\":\"fish\",\"url\":\"m.dafiti.com.br/catalog/?q=Calcados\\\\u0026wtqs=1\\\\u0026dft_capi=1\",\"url_referrer\":\"m.dafiti.com.br/catalog/?q=Calcados\\\\u0026wtqs=1\"},\"created_at\":1502582400347,\"local_timestamp\":1502582415580,\"type\":\"search\",\"details\":{\"query\":\"Calcados\",\"query_type\":\"keyword\",\"brand\":{}}},\"created_at\":1502582400347}']"
      ]
     },
     "execution_count": 236,
     "metadata": {},
     "output_type": "execute_result"
    }
   ],
   "source": [
    "cocu.take(10)"
   ]
  },
  {
   "cell_type": "code",
   "execution_count": 69,
   "metadata": {
    "collapsed": true
   },
   "outputs": [],
   "source": [
    "re.sub?"
   ]
  },
  {
   "cell_type": "code",
   "execution_count": 87,
   "metadata": {
    "collapsed": true
   },
   "outputs": [],
   "source": [
    "train_data = train_rdd.filter(lambda x: x != 'fv,sku,score').map(lambda row: row.split(',')).map(lambda e: (e[0], e[1], float(e[2]))).cache()"
   ]
  },
  {
   "cell_type": "code",
   "execution_count": 70,
   "metadata": {
    "collapsed": true
   },
   "outputs": [],
   "source": [
    "valid_data = valid_rdd.filter(lambda x: x != 'fv,sku,score').map(lambda row: row.split(',')).map(lambda e: (e[0], e[1], e[2])).cache()"
   ]
  },
  {
   "cell_type": "code",
   "execution_count": 72,
   "metadata": {
    "collapsed": true
   },
   "outputs": [],
   "source": [
    "test_data = test_rdd.filter(lambda x: x != 'fv,sku,score').map(lambda row: row.split(',')).map(lambda e: (e[0], e[1], e[2])).cache()"
   ]
  },
  {
   "cell_type": "code",
   "execution_count": 155,
   "metadata": {},
   "outputs": [
    {
     "data": {
      "text/plain": [
       "[Row(fv=813424, sku=1511, score='1'),\n",
       " Row(fv=1017617, sku=1662, score='0.5'),\n",
       " Row(fv=392066, sku=1662, score='1')]"
      ]
     },
     "execution_count": 155,
     "metadata": {},
     "output_type": "execute_result"
    }
   ],
   "source": [
    "train_data.take(3)"
   ]
  },
  {
   "cell_type": "code",
   "execution_count": 71,
   "metadata": {},
   "outputs": [
    {
     "data": {
      "text/plain": [
       "[('8904296658784430607', 'BE139SHF93GPE', '0.5'),\n",
       " ('8387443859206657573', 'FA258SHF63HTC', '3'),\n",
       " ('3603778167605721116', 'HD124SRM40WZB', '4')]"
      ]
     },
     "execution_count": 71,
     "metadata": {},
     "output_type": "execute_result"
    }
   ],
   "source": [
    "valid_data.take(3)"
   ]
  },
  {
   "cell_type": "code",
   "execution_count": 73,
   "metadata": {},
   "outputs": [
    {
     "data": {
      "text/plain": [
       "[('3980302175032894809', 'CI369APM10NSB', '0.5'),\n",
       " ('2538539940766825016', 'VI618SHF96VTV', '0.5'),\n",
       " ('5159285433814597554', 'DA923SHF01ZNY', '0.5')]"
      ]
     },
     "execution_count": 73,
     "metadata": {},
     "output_type": "execute_result"
    }
   ],
   "source": [
    "test_data.take(3)"
   ]
  },
  {
   "cell_type": "code",
   "execution_count": 76,
   "metadata": {
    "collapsed": true
   },
   "outputs": [],
   "source": [
    "valid_to_predict = valid_data.map(lambda x: (x[0], x[1]))"
   ]
  },
  {
   "cell_type": "code",
   "execution_count": 77,
   "metadata": {},
   "outputs": [
    {
     "data": {
      "text/plain": [
       "[('8904296658784430607', 'BE139SHF93GPE'),\n",
       " ('8387443859206657573', 'FA258SHF63HTC'),\n",
       " ('3603778167605721116', 'HD124SRM40WZB')]"
      ]
     },
     "execution_count": 77,
     "metadata": {},
     "output_type": "execute_result"
    }
   ],
   "source": [
    "valid_to_predict.take(3)"
   ]
  },
  {
   "cell_type": "code",
   "execution_count": 78,
   "metadata": {
    "collapsed": true
   },
   "outputs": [],
   "source": [
    "test_to_predict = test_data.map(lambda x: (x[0], x[1]))"
   ]
  },
  {
   "cell_type": "code",
   "execution_count": 79,
   "metadata": {},
   "outputs": [
    {
     "data": {
      "text/plain": [
       "[('3980302175032894809', 'CI369APM10NSB'),\n",
       " ('2538539940766825016', 'VI618SHF96VTV'),\n",
       " ('5159285433814597554', 'DA923SHF01ZNY')]"
      ]
     },
     "execution_count": 79,
     "metadata": {},
     "output_type": "execute_result"
    }
   ],
   "source": [
    "test_to_predict.take(3)"
   ]
  },
  {
   "cell_type": "code",
   "execution_count": 132,
   "metadata": {
    "collapsed": true
   },
   "outputs": [],
   "source": [
    "from pyspark.mllib.recommendation import ALS\n",
    "import math"
   ]
  },
  {
   "cell_type": "code",
   "execution_count": 162,
   "metadata": {
    "collapsed": true
   },
   "outputs": [],
   "source": [
    "model = ALS.train?"
   ]
  },
  {
   "cell_type": "code",
   "execution_count": null,
   "metadata": {
    "collapsed": true
   },
   "outputs": [],
   "source": [
    "model = ALS.train"
   ]
  },
  {
   "cell_type": "code",
   "execution_count": 167,
   "metadata": {},
   "outputs": [
    {
     "name": "stdout",
     "output_type": "stream",
     "text": [
      "1.6183618802967397\n",
      "1.7074869368155823\n",
      "1.4520415029913245\n"
     ]
    }
   ],
   "source": [
    "best_rank = -1\n",
    "best_iteration = -1\n",
    "\n",
    "for rank in [4, 6, 10]:\n",
    "    model = ALS.train(train_data, rank, seed=5, iterations=5, lambda_=0.1)\n",
    "    predictions = model.predictAll(valid_data.select('fv', 'sku').rdd).map(lambda r: ((r[0], r[1]), r[2]))\n",
    "    rates_and_preds = valid_data.rdd.map(lambda r: ((int(r[0]), int(r[1])), float(r[2]))).join(predictions)\n",
    "    error = math.sqrt(rates_and_preds.map(lambda r: (r[1][0] - r[1][1]) ** 2).mean())\n",
    "    print(error)"
   ]
  },
  {
   "cell_type": "code",
   "execution_count": 169,
   "metadata": {},
   "outputs": [
    {
     "data": {
      "text/plain": [
       "[((903500, 320127), -0.297609535386314),\n",
       " ((903500, 174229), -0.10394798458488858),\n",
       " ((903500, 337057), 0.03640408823616548)]"
      ]
     },
     "execution_count": 169,
     "metadata": {},
     "output_type": "execute_result"
    }
   ],
   "source": [
    "predictions.take(3)"
   ]
  },
  {
   "cell_type": "code",
   "execution_count": 105,
   "metadata": {
    "collapsed": true
   },
   "outputs": [],
   "source": [
    "t1 = sc.parallelize([('a', 'a', 1), ('b', 'c', 2)])\n",
    "t2 = sc.parallelize([('b', 3)])"
   ]
  },
  {
   "cell_type": "code",
   "execution_count": 108,
   "metadata": {
    "collapsed": true
   },
   "outputs": [],
   "source": [
    "r = t1.union?"
   ]
  },
  {
   "cell_type": "code",
   "execution_count": null,
   "metadata": {
    "collapsed": true
   },
   "outputs": [],
   "source": [
    "r = t1.union"
   ]
  },
  {
   "cell_type": "code",
   "execution_count": 107,
   "metadata": {},
   "outputs": [
    {
     "data": {
      "text/plain": [
       "[('b', ('c', 3))]"
      ]
     },
     "execution_count": 107,
     "metadata": {},
     "output_type": "execute_result"
    }
   ],
   "source": []
  },
  {
   "cell_type": "code",
   "execution_count": 168,
   "metadata": {},
   "outputs": [
    {
     "data": {
      "text/plain": [
       "9223372036854775807"
      ]
     },
     "execution_count": 168,
     "metadata": {},
     "output_type": "execute_result"
    }
   ],
   "source": [
    "import sys\n",
    "sys.maxsize"
   ]
  },
  {
   "cell_type": "code",
   "execution_count": 187,
   "metadata": {
    "collapsed": true
   },
   "outputs": [],
   "source": [
    "t1 = sc.parallelize([('a', 1), ('b', 2)]).toDF(['name', 'value'])"
   ]
  },
  {
   "cell_type": "code",
   "execution_count": 181,
   "metadata": {
    "collapsed": true
   },
   "outputs": [],
   "source": [
    "t1.toDF?"
   ]
  },
  {
   "cell_type": "code",
   "execution_count": null,
   "metadata": {
    "collapsed": true
   },
   "outputs": [],
   "source": [
    "t1 = sc.parallelize([('a', 1), ('b', 2)]).toDF"
   ]
  },
  {
   "cell_type": "code",
   "execution_count": 188,
   "metadata": {
    "collapsed": true
   },
   "outputs": [],
   "source": [
    "t1.createOrReplaceTempView('t2')"
   ]
  },
  {
   "cell_type": "code",
   "execution_count": 189,
   "metadata": {
    "collapsed": true
   },
   "outputs": [],
   "source": [
    "r = spark.sql('select * from t2')"
   ]
  },
  {
   "cell_type": "code",
   "execution_count": 190,
   "metadata": {},
   "outputs": [
    {
     "data": {
      "text/plain": [
       "[Row(name='a', value=1), Row(name='b', value=2)]"
      ]
     },
     "execution_count": 190,
     "metadata": {},
     "output_type": "execute_result"
    }
   ],
   "source": [
    "r.take(3)"
   ]
  },
  {
   "cell_type": "code",
   "execution_count": 191,
   "metadata": {
    "collapsed": true
   },
   "outputs": [],
   "source": [
    "r = spark.sql('select array(name) from t2')"
   ]
  },
  {
   "cell_type": "code",
   "execution_count": 192,
   "metadata": {},
   "outputs": [
    {
     "data": {
      "text/plain": [
       "[Row(array(name)=['a']), Row(array(name)=['b'])]"
      ]
     },
     "execution_count": 192,
     "metadata": {},
     "output_type": "execute_result"
    }
   ],
   "source": [
    "r.take(3)"
   ]
  },
  {
   "cell_type": "code",
   "execution_count": 194,
   "metadata": {
    "collapsed": true
   },
   "outputs": [],
   "source": [
    "sc = SparkContext.getOrCreate()"
   ]
  },
  {
   "cell_type": "code",
   "execution_count": 197,
   "metadata": {
    "collapsed": true
   },
   "outputs": [],
   "source": [
    "jvm = sc._jvm"
   ]
  },
  {
   "cell_type": "code",
   "execution_count": 198,
   "metadata": {
    "collapsed": true
   },
   "outputs": [],
   "source": [
    "o = jvm.PythonMLLibAPI()"
   ]
  },
  {
   "cell_type": "code",
   "execution_count": 200,
   "metadata": {
    "collapsed": true
   },
   "outputs": [],
   "source": [
    "m = o.trainALSModel?"
   ]
  },
  {
   "cell_type": "code",
   "execution_count": null,
   "metadata": {
    "collapsed": true
   },
   "outputs": [],
   "source": [
    "m = o.trainALSModel"
   ]
  },
  {
   "cell_type": "code",
   "execution_count": 232,
   "metadata": {},
   "outputs": [],
   "source": [
    "a = np.array([[1], [2], [3]])\n",
    "b = np.array([1, 2, 3])"
   ]
  },
  {
   "cell_type": "code",
   "execution_count": 233,
   "metadata": {},
   "outputs": [
    {
     "name": "stdout",
     "output_type": "stream",
     "text": [
      "[[1 2 3]\n",
      " [2 4 6]\n",
      " [3 6 9]]\n"
     ]
    }
   ],
   "source": [
    "n = np.multiply(a, b)\n",
    "print(n)"
   ]
  },
  {
   "cell_type": "code",
   "execution_count": 227,
   "metadata": {},
   "outputs": [],
   "source": [
    "np.dot?"
   ]
  },
  {
   "cell_type": "code",
   "execution_count": null,
   "metadata": {
    "collapsed": true
   },
   "outputs": [],
   "source": []
  },
  {
   "cell_type": "code",
   "execution_count": null,
   "metadata": {
    "collapsed": true
   },
   "outputs": [],
   "source": []
  }
 ],
 "metadata": {
  "kernelspec": {
   "display_name": "PySpark",
   "language": "python",
   "name": "pyspark"
  },
  "language_info": {
   "codemirror_mode": {
    "name": "ipython",
    "version": 3
   },
   "file_extension": ".py",
   "mimetype": "text/x-python",
   "name": "python",
   "nbconvert_exporter": "python",
   "pygments_lexer": "ipython3",
   "version": "3.5.2"
  }
 },
 "nbformat": 4,
 "nbformat_minor": 2
}
